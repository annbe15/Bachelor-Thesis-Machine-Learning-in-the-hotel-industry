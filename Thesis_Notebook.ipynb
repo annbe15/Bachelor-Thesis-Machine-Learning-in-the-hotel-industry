{
 "cells": [
  {
   "cell_type": "markdown",
   "id": "cc32dff8-d7c8-42ab-b9d1-f21fce45a82e",
   "metadata": {},
   "source": [
    "#### **<span style='color:darkred'>Bachelor Thesis <br/> Machine Learning in the hotel industry: an automated analysis of online guest reviews</span>**\n",
    "\n",
    "**Supervisor:** ao. Univ.Prof. Dr. Johann Mitlöhner\n",
    "\n",
    "**Anna Maria Berger** (h1260562)"
   ]
  },
  {
   "cell_type": "markdown",
   "id": "131b0e53-80b4-4d87-9ca6-35a07f2c5711",
   "metadata": {},
   "source": [
    "### Part 1, Preprocessing of the data"
   ]
  },
  {
   "cell_type": "code",
   "execution_count": 25,
   "id": "c895aa38-151e-4ae4-b48d-3cde15b427ec",
   "metadata": {},
   "outputs": [
    {
     "name": "stdout",
     "output_type": "stream",
     "text": [
      "Requirement already satisfied: sklearn in /opt/conda/lib/python3.9/site-packages (0.0)\n",
      "Requirement already satisfied: scikit-learn in /opt/conda/lib/python3.9/site-packages (from sklearn) (1.0)\n",
      "Requirement already satisfied: joblib>=0.11 in /opt/conda/lib/python3.9/site-packages (from scikit-learn->sklearn) (1.1.0)\n",
      "Requirement already satisfied: threadpoolctl>=2.0.0 in /opt/conda/lib/python3.9/site-packages (from scikit-learn->sklearn) (3.0.0)\n",
      "Requirement already satisfied: numpy>=1.14.6 in /opt/conda/lib/python3.9/site-packages (from scikit-learn->sklearn) (1.20.3)\n",
      "Requirement already satisfied: scipy>=1.1.0 in /opt/conda/lib/python3.9/site-packages (from scikit-learn->sklearn) (1.7.1)\n",
      "Requirement already satisfied: nltk in /opt/conda/lib/python3.9/site-packages (3.7)\n",
      "Requirement already satisfied: regex>=2021.8.3 in /opt/conda/lib/python3.9/site-packages (from nltk) (2022.7.25)\n",
      "Requirement already satisfied: joblib in /opt/conda/lib/python3.9/site-packages (from nltk) (1.1.0)\n",
      "Requirement already satisfied: click in /opt/conda/lib/python3.9/site-packages (from nltk) (8.0.3)\n",
      "Requirement already satisfied: tqdm in /opt/conda/lib/python3.9/site-packages (from nltk) (4.62.3)\n",
      "Requirement already satisfied: contractions in /opt/conda/lib/python3.9/site-packages (0.1.72)\n",
      "Requirement already satisfied: textsearch>=0.0.21 in /opt/conda/lib/python3.9/site-packages (from contractions) (0.0.21)\n",
      "Requirement already satisfied: anyascii in /opt/conda/lib/python3.9/site-packages (from textsearch>=0.0.21->contractions) (0.3.1)\n",
      "Requirement already satisfied: pyahocorasick in /opt/conda/lib/python3.9/site-packages (from textsearch>=0.0.21->contractions) (1.4.4)\n",
      "Requirement already satisfied: vaderSentiment in /opt/conda/lib/python3.9/site-packages (3.3.2)\n",
      "Requirement already satisfied: requests in /opt/conda/lib/python3.9/site-packages (from vaderSentiment) (2.26.0)\n",
      "Requirement already satisfied: certifi>=2017.4.17 in /opt/conda/lib/python3.9/site-packages (from requests->vaderSentiment) (2021.10.8)\n",
      "Requirement already satisfied: charset-normalizer~=2.0.0 in /opt/conda/lib/python3.9/site-packages (from requests->vaderSentiment) (2.0.0)\n",
      "Requirement already satisfied: urllib3<1.27,>=1.21.1 in /opt/conda/lib/python3.9/site-packages (from requests->vaderSentiment) (1.26.7)\n",
      "Requirement already satisfied: idna<4,>=2.5 in /opt/conda/lib/python3.9/site-packages (from requests->vaderSentiment) (3.1)\n",
      "Requirement already satisfied: wordcloud in /opt/conda/lib/python3.9/site-packages (1.8.2.2)\n",
      "Requirement already satisfied: matplotlib in /opt/conda/lib/python3.9/site-packages (from wordcloud) (3.4.3)\n",
      "Requirement already satisfied: numpy>=1.6.1 in /opt/conda/lib/python3.9/site-packages (from wordcloud) (1.20.3)\n",
      "Requirement already satisfied: pillow in /opt/conda/lib/python3.9/site-packages (from wordcloud) (8.3.2)\n",
      "Requirement already satisfied: cycler>=0.10 in /opt/conda/lib/python3.9/site-packages (from matplotlib->wordcloud) (0.10.0)\n",
      "Requirement already satisfied: python-dateutil>=2.7 in /opt/conda/lib/python3.9/site-packages (from matplotlib->wordcloud) (2.8.2)\n",
      "Requirement already satisfied: kiwisolver>=1.0.1 in /opt/conda/lib/python3.9/site-packages (from matplotlib->wordcloud) (1.3.2)\n",
      "Requirement already satisfied: pyparsing>=2.2.1 in /opt/conda/lib/python3.9/site-packages (from matplotlib->wordcloud) (2.4.7)\n",
      "Requirement already satisfied: six in /opt/conda/lib/python3.9/site-packages (from cycler>=0.10->matplotlib->wordcloud) (1.16.0)\n"
     ]
    }
   ],
   "source": [
    "!pip install sklearn\n",
    "!pip install nltk\n",
    "!pip install contractions\n",
    "!pip install vaderSentiment\n",
    "!pip install wordcloud"
   ]
  },
  {
   "cell_type": "code",
   "execution_count": 26,
   "id": "37c91556-78c8-487c-bdbe-0620afdbda27",
   "metadata": {},
   "outputs": [],
   "source": [
    "\n",
    "import pandas as pd\n",
    "import numpy as np\n",
    "import re\n",
    "import csv\n",
    "import sklearn\n",
    "import string\n",
    "import nltk\n",
    "from nltk.corpus import stopwords\n",
    "from sklearn.feature_extraction import _stop_words\n",
    "import contractions\n",
    "from nltk.tokenize import RegexpTokenizer\n",
    "import pickle\n",
    "from nltk.sentiment.vader import SentimentIntensityAnalyzer as sid\n",
    "from nltk.tokenize import sent_tokenize\n",
    "import matplotlib\n",
    "import matplotlib.pyplot as plt\n",
    "%matplotlib inline\n",
    "matplotlib.rcParams['figure.figsize'] = (10.0, 6.0)\n",
    "pd.options.display.max_columns = 30\n",
    "from wordcloud import WordCloud"
   ]
  },
  {
   "cell_type": "code",
   "execution_count": 27,
   "id": "31e67415-d274-407a-9e11-2946e75fedbc",
   "metadata": {},
   "outputs": [
    {
     "name": "stderr",
     "output_type": "stream",
     "text": [
      "[nltk_data] Downloading package vader_lexicon to\n",
      "[nltk_data]     /home/jovyan/nltk_data...\n",
      "[nltk_data]   Package vader_lexicon is already up-to-date!\n"
     ]
    },
    {
     "data": {
      "text/plain": [
       "True"
      ]
     },
     "execution_count": 27,
     "metadata": {},
     "output_type": "execute_result"
    }
   ],
   "source": [
    "import sys\n",
    "nltk.download('vader_lexicon')"
   ]
  },
  {
   "cell_type": "code",
   "execution_count": 28,
   "id": "5293cb76-9f83-4951-ad65-4156cf7c4e66",
   "metadata": {},
   "outputs": [],
   "source": [
    "en_stopwords=(_stop_words.ENGLISH_STOP_WORDS)\n",
    "nktk=(stopwords.words('english'))"
   ]
  },
  {
   "cell_type": "code",
   "execution_count": 29,
   "id": "3ca2f47d-1b0b-43e6-84b2-8647623d71ce",
   "metadata": {},
   "outputs": [],
   "source": [
    "dataset=pd.read_csv('./data/tripadvisor_hotel_reviews.csv')"
   ]
  },
  {
   "cell_type": "code",
   "execution_count": 30,
   "id": "fdf31720-917e-4d7e-89e5-cf5a2eb262a2",
   "metadata": {},
   "outputs": [
    {
     "data": {
      "text/html": [
       "<div>\n",
       "<style scoped>\n",
       "    .dataframe tbody tr th:only-of-type {\n",
       "        vertical-align: middle;\n",
       "    }\n",
       "\n",
       "    .dataframe tbody tr th {\n",
       "        vertical-align: top;\n",
       "    }\n",
       "\n",
       "    .dataframe thead th {\n",
       "        text-align: right;\n",
       "    }\n",
       "</style>\n",
       "<table border=\"1\" class=\"dataframe\">\n",
       "  <thead>\n",
       "    <tr style=\"text-align: right;\">\n",
       "      <th></th>\n",
       "      <th>Review</th>\n",
       "      <th>Rating</th>\n",
       "    </tr>\n",
       "  </thead>\n",
       "  <tbody>\n",
       "    <tr>\n",
       "      <th>0</th>\n",
       "      <td>nice hotel expensive parking got good deal sta...</td>\n",
       "      <td>4</td>\n",
       "    </tr>\n",
       "    <tr>\n",
       "      <th>1</th>\n",
       "      <td>ok nothing special charge diamond member hilto...</td>\n",
       "      <td>2</td>\n",
       "    </tr>\n",
       "    <tr>\n",
       "      <th>2</th>\n",
       "      <td>nice rooms not 4* experience hotel monaco seat...</td>\n",
       "      <td>3</td>\n",
       "    </tr>\n",
       "    <tr>\n",
       "      <th>3</th>\n",
       "      <td>unique, great stay, wonderful time hotel monac...</td>\n",
       "      <td>5</td>\n",
       "    </tr>\n",
       "    <tr>\n",
       "      <th>4</th>\n",
       "      <td>great stay great stay, went seahawk game aweso...</td>\n",
       "      <td>5</td>\n",
       "    </tr>\n",
       "    <tr>\n",
       "      <th>...</th>\n",
       "      <td>...</td>\n",
       "      <td>...</td>\n",
       "    </tr>\n",
       "    <tr>\n",
       "      <th>20486</th>\n",
       "      <td>best kept secret 3rd time staying charm, not 5...</td>\n",
       "      <td>5</td>\n",
       "    </tr>\n",
       "    <tr>\n",
       "      <th>20487</th>\n",
       "      <td>great location price view hotel great quick pl...</td>\n",
       "      <td>4</td>\n",
       "    </tr>\n",
       "    <tr>\n",
       "      <th>20488</th>\n",
       "      <td>ok just looks nice modern outside, desk staff ...</td>\n",
       "      <td>2</td>\n",
       "    </tr>\n",
       "    <tr>\n",
       "      <th>20489</th>\n",
       "      <td>hotel theft ruined vacation hotel opened sept ...</td>\n",
       "      <td>1</td>\n",
       "    </tr>\n",
       "    <tr>\n",
       "      <th>20490</th>\n",
       "      <td>people talking, ca n't believe excellent ratin...</td>\n",
       "      <td>2</td>\n",
       "    </tr>\n",
       "  </tbody>\n",
       "</table>\n",
       "<p>20491 rows × 2 columns</p>\n",
       "</div>"
      ],
      "text/plain": [
       "                                                  Review  Rating\n",
       "0      nice hotel expensive parking got good deal sta...       4\n",
       "1      ok nothing special charge diamond member hilto...       2\n",
       "2      nice rooms not 4* experience hotel monaco seat...       3\n",
       "3      unique, great stay, wonderful time hotel monac...       5\n",
       "4      great stay great stay, went seahawk game aweso...       5\n",
       "...                                                  ...     ...\n",
       "20486  best kept secret 3rd time staying charm, not 5...       5\n",
       "20487  great location price view hotel great quick pl...       4\n",
       "20488  ok just looks nice modern outside, desk staff ...       2\n",
       "20489  hotel theft ruined vacation hotel opened sept ...       1\n",
       "20490  people talking, ca n't believe excellent ratin...       2\n",
       "\n",
       "[20491 rows x 2 columns]"
      ]
     },
     "execution_count": 30,
     "metadata": {},
     "output_type": "execute_result"
    }
   ],
   "source": [
    "dataset[\"Review\"]=(dataset[\"Review\"]).astype(str) #review was a pd.series. for the NLP we need strings to work with\n",
    "\n",
    "dataset[\"Rating\"]=(dataset[\"Rating\"]).astype(int) # the rating is supposed to be an integer, therefore changed to int\n",
    "\n",
    "dataset\n"
   ]
  },
  {
   "cell_type": "markdown",
   "id": "43fcded4-abb0-40f5-a0df-ef057d5718fc",
   "metadata": {},
   "source": [
    "preprocessing the data and clean it, stopword removal, special character removal, lowercasing. no tokenizing just yet. the datasets' 'nt were somehow left with a \" \" in front which is then removed as well. for stopwords I used sklearn stopwords and nltk as those are a little different and we want as many stopwords with no meaning gone as possible."
   ]
  },
  {
   "cell_type": "code",
   "execution_count": 31,
   "id": "85359c16-69f7-4316-9ee8-48416b8bca43",
   "metadata": {},
   "outputs": [
    {
     "name": "stderr",
     "output_type": "stream",
     "text": [
      "/tmp/ipykernel_457/105522755.py:9: FutureWarning: The default value of regex will change from True to False in a future version. In addition, single character regular expressions will *not* be treated as literal strings when regex=True.\n",
      "  dataset[\"clean\"] = dataset[\"clean\"].str.replace(\".\",\". \")\n"
     ]
    },
    {
     "data": {
      "text/html": [
       "<div>\n",
       "<style scoped>\n",
       "    .dataframe tbody tr th:only-of-type {\n",
       "        vertical-align: middle;\n",
       "    }\n",
       "\n",
       "    .dataframe tbody tr th {\n",
       "        vertical-align: top;\n",
       "    }\n",
       "\n",
       "    .dataframe thead th {\n",
       "        text-align: right;\n",
       "    }\n",
       "</style>\n",
       "<table border=\"1\" class=\"dataframe\">\n",
       "  <thead>\n",
       "    <tr style=\"text-align: right;\">\n",
       "      <th></th>\n",
       "      <th>Review</th>\n",
       "      <th>Rating</th>\n",
       "      <th>clean</th>\n",
       "    </tr>\n",
       "  </thead>\n",
       "  <tbody>\n",
       "    <tr>\n",
       "      <th>0</th>\n",
       "      <td>nice hotel expensive parking got good deal sta...</td>\n",
       "      <td>4</td>\n",
       "      <td>nice hotel expensive parking got good deal sta...</td>\n",
       "    </tr>\n",
       "    <tr>\n",
       "      <th>1</th>\n",
       "      <td>ok nothing special charge diamond member hilto...</td>\n",
       "      <td>2</td>\n",
       "      <td>ok nothing special charge diamond member hilto...</td>\n",
       "    </tr>\n",
       "    <tr>\n",
       "      <th>2</th>\n",
       "      <td>nice rooms not 4* experience hotel monaco seat...</td>\n",
       "      <td>3</td>\n",
       "      <td>nice rooms not experience hotel monaco seattle...</td>\n",
       "    </tr>\n",
       "    <tr>\n",
       "      <th>3</th>\n",
       "      <td>unique, great stay, wonderful time hotel monac...</td>\n",
       "      <td>5</td>\n",
       "      <td>unique. great stay. wonderful time hotel monac...</td>\n",
       "    </tr>\n",
       "    <tr>\n",
       "      <th>4</th>\n",
       "      <td>great stay great stay, went seahawk game aweso...</td>\n",
       "      <td>5</td>\n",
       "      <td>great stay great stay. went seahawk game aweso...</td>\n",
       "    </tr>\n",
       "    <tr>\n",
       "      <th>...</th>\n",
       "      <td>...</td>\n",
       "      <td>...</td>\n",
       "      <td>...</td>\n",
       "    </tr>\n",
       "    <tr>\n",
       "      <th>20486</th>\n",
       "      <td>best kept secret 3rd time staying charm, not 5...</td>\n",
       "      <td>5</td>\n",
       "      <td>best kept secret time staying charm. not star ...</td>\n",
       "    </tr>\n",
       "    <tr>\n",
       "      <th>20487</th>\n",
       "      <td>great location price view hotel great quick pl...</td>\n",
       "      <td>4</td>\n",
       "      <td>great location price view hotel great quick pl...</td>\n",
       "    </tr>\n",
       "    <tr>\n",
       "      <th>20488</th>\n",
       "      <td>ok just looks nice modern outside, desk staff ...</td>\n",
       "      <td>2</td>\n",
       "      <td>ok just looks nice modern outside. desk staff ...</td>\n",
       "    </tr>\n",
       "    <tr>\n",
       "      <th>20489</th>\n",
       "      <td>hotel theft ruined vacation hotel opened sept ...</td>\n",
       "      <td>1</td>\n",
       "      <td>hotel theft ruined vacation hotel opened sept ...</td>\n",
       "    </tr>\n",
       "    <tr>\n",
       "      <th>20490</th>\n",
       "      <td>people talking, ca n't believe excellent ratin...</td>\n",
       "      <td>2</td>\n",
       "      <td>people talking. can not believe excellent rati...</td>\n",
       "    </tr>\n",
       "  </tbody>\n",
       "</table>\n",
       "<p>20491 rows × 3 columns</p>\n",
       "</div>"
      ],
      "text/plain": [
       "                                                  Review  Rating  \\\n",
       "0      nice hotel expensive parking got good deal sta...       4   \n",
       "1      ok nothing special charge diamond member hilto...       2   \n",
       "2      nice rooms not 4* experience hotel monaco seat...       3   \n",
       "3      unique, great stay, wonderful time hotel monac...       5   \n",
       "4      great stay great stay, went seahawk game aweso...       5   \n",
       "...                                                  ...     ...   \n",
       "20486  best kept secret 3rd time staying charm, not 5...       5   \n",
       "20487  great location price view hotel great quick pl...       4   \n",
       "20488  ok just looks nice modern outside, desk staff ...       2   \n",
       "20489  hotel theft ruined vacation hotel opened sept ...       1   \n",
       "20490  people talking, ca n't believe excellent ratin...       2   \n",
       "\n",
       "                                                   clean  \n",
       "0      nice hotel expensive parking got good deal sta...  \n",
       "1      ok nothing special charge diamond member hilto...  \n",
       "2      nice rooms not experience hotel monaco seattle...  \n",
       "3      unique. great stay. wonderful time hotel monac...  \n",
       "4      great stay great stay. went seahawk game aweso...  \n",
       "...                                                  ...  \n",
       "20486  best kept secret time staying charm. not star ...  \n",
       "20487  great location price view hotel great quick pl...  \n",
       "20488  ok just looks nice modern outside. desk staff ...  \n",
       "20489  hotel theft ruined vacation hotel opened sept ...  \n",
       "20490  people talking. can not believe excellent rati...  \n",
       "\n",
       "[20491 rows x 3 columns]"
      ]
     },
     "execution_count": 31,
     "metadata": {},
     "output_type": "execute_result"
    }
   ],
   "source": [
    "dataset[\"clean\"]=dataset['Review'].str.lower() \n",
    "dataset[\"clean\"]=dataset[\"clean\"].apply(lambda x: contractions.fix(x))\n",
    "dataset[\"clean\"] = dataset[\"clean\"].apply(lambda s: ' '.join(re.sub(\"[-?:;-=/@'#_]\", \"\", s).split()))\n",
    "dataset[\"clean\"] = dataset[\"clean\"].apply(lambda s: ' '.join(re.sub(\"[*0-9]\", \" \", s).split()))\n",
    "dataset[\"clean\"] = dataset[\"clean\"].apply(lambda s: ' '.join(re.sub(\"(w+://S+)\", \" \", s).split()))\n",
    "dataset[\"clean\"] = dataset[\"clean\"].str.replace(\"ca nt\",\"can not\")\n",
    "dataset[\"clean\"] = dataset[\"clean\"].str.replace(\"wo nt\",\"would not\")\n",
    "dataset[\"clean\"] = dataset[\"clean\"].str.replace(\" rd \",\" \")\n",
    "dataset[\"clean\"] = dataset[\"clean\"].str.replace(\".\",\". \")\n",
    "dataset[\"clean\"] = dataset[\"clean\"].str.replace(\",\",\".\")\n",
    "dataset[\"clean\"] = dataset[\"clean\"].str.replace(\" nd \",\" \")\n",
    "dataset[\"clean\"] = dataset[\"clean\"].str.replace(\" st \",\" \")\n",
    "dataset[\"clean\"] = dataset[\"clean\"].str.replace(\" nt\",\" \")\n",
    "#stopwords removing\n",
    "dataset[\"clean\"] = dataset[\"clean\"].apply(lambda x: ' '.join([word for word in x.split() if word not in (en_stopwords) or(nktk)]))\n",
    "#tokenize the sentences, is not used in the general setinment analysis though. in the general sentiment analysis the data is left without tokenizing the sentences\n",
    "#you can always comment it or leave it, depending on what the purpose of the analysis is.\n",
    "#but the general sentiment analysis does require the dataset where the sentences have not been tokenized.\n",
    "\n",
    "#dataset[\"clean\"] = dataset[\"clean\"].apply(lambda s: sent_tokenize(s))\n",
    "dataset"
   ]
  },
  {
   "cell_type": "code",
   "execution_count": 32,
   "id": "5d6c054e-6abd-4d17-9b36-ac84973dbe3d",
   "metadata": {},
   "outputs": [
    {
     "data": {
      "text/plain": [
       "'great location stay long needed place stay seattle prior catching early morning amtrak train portland. looked train station not. dropping hertz car hilton downtown just wanted place spend night. called hotel seattle based location tourist map near hilton. did access internet research reviews did not stay. location great virtually door high end hotels. half price hilton thought try. checked asked aaa discount clerk response. time heard hotel desk clerk not knowing aaa. room used low budget movie version run hotel threadbare carpets dingy curtains not quite hanging right minimal lighting strange hanging light middle room dingy bathroom. definitely dingy did not appear obviously dirty. no ac luckily did need. bed not particularly comfortable little boucy people definitely gravitated middle. no clock room did wake requested. it ok spending night want spend. positive great safe location quick taxi ride train station shower great. not invested low flow shower heads water pressure really high. really enjoyed conversation desk clerk morning. mentioned clerk previous night heard aaa told clerk moron owner not asked interview. went say check reviews trip advisor listed worst hotels seattle. got ta love type enthusiastic employee. worked night. friend day clerk did mention nicer rooms. definitely want not nice ones. recommend ask room committing.'"
      ]
     },
     "execution_count": 32,
     "metadata": {},
     "output_type": "execute_result"
    }
   ],
   "source": [
    "dataset[\"clean\"][45]"
   ]
  },
  {
   "cell_type": "markdown",
   "id": "1431b4f6-1d5a-46ec-bdc0-9c708e7b1635",
   "metadata": {},
   "source": [
    "dataset[\"clean\"]=dataset[\"clean\"].apply(lambda x: contractions.fix(x))\n",
    "dataset"
   ]
  },
  {
   "cell_type": "markdown",
   "id": "1e634218-fde3-4cd2-b59e-a86d0cb29558",
   "metadata": {},
   "source": [
    "### Part 2, General Sentiment Analysis"
   ]
  },
  {
   "cell_type": "raw",
   "id": "14397f9c-071d-44b1-8be6-f9b39041bc43",
   "metadata": {},
   "source": [
    "with open(\"./data/dataset.pkl\", 'rb') as f:\n",
    "    \n",
    "    dataset = pickle.load(f)"
   ]
  },
  {
   "cell_type": "code",
   "execution_count": 33,
   "id": "1376fc09-7402-4517-80a3-61ecd5769979",
   "metadata": {},
   "outputs": [
    {
     "data": {
      "text/plain": [
       "5    9054\n",
       "4    6039\n",
       "3    2184\n",
       "2    1793\n",
       "1    1421\n",
       "Name: Rating, dtype: int64"
      ]
     },
     "execution_count": 33,
     "metadata": {},
     "output_type": "execute_result"
    }
   ],
   "source": [
    "#a small overview of the statistics offered by the \"Rating\" column. This does not necessarily help for the analysis but it could be interesting to compare the outcome of the sentiment analysis with the outcome of the counting\n",
    "#if the results are completely different and do not make sense, something must have gone wrong with the senitment analysis\n",
    "\n",
    "dataset[\"Rating\"].value_counts()"
   ]
  },
  {
   "cell_type": "code",
   "execution_count": 34,
   "id": "a3338c3e-b761-4754-bba5-4344242aca9b",
   "metadata": {},
   "outputs": [
    {
     "data": {
      "text/html": [
       "<div>\n",
       "<style scoped>\n",
       "    .dataframe tbody tr th:only-of-type {\n",
       "        vertical-align: middle;\n",
       "    }\n",
       "\n",
       "    .dataframe tbody tr th {\n",
       "        vertical-align: top;\n",
       "    }\n",
       "\n",
       "    .dataframe thead th {\n",
       "        text-align: right;\n",
       "    }\n",
       "</style>\n",
       "<table border=\"1\" class=\"dataframe\">\n",
       "  <thead>\n",
       "    <tr style=\"text-align: right;\">\n",
       "      <th></th>\n",
       "      <th>clean</th>\n",
       "    </tr>\n",
       "  </thead>\n",
       "  <tbody>\n",
       "    <tr>\n",
       "      <th>0</th>\n",
       "      <td>nice hotel expensive parking got good deal sta...</td>\n",
       "    </tr>\n",
       "    <tr>\n",
       "      <th>1</th>\n",
       "      <td>ok nothing special charge diamond member hilto...</td>\n",
       "    </tr>\n",
       "    <tr>\n",
       "      <th>2</th>\n",
       "      <td>nice rooms not experience hotel monaco seattle...</td>\n",
       "    </tr>\n",
       "    <tr>\n",
       "      <th>3</th>\n",
       "      <td>unique. great stay. wonderful time hotel monac...</td>\n",
       "    </tr>\n",
       "    <tr>\n",
       "      <th>4</th>\n",
       "      <td>great stay great stay. went seahawk game aweso...</td>\n",
       "    </tr>\n",
       "    <tr>\n",
       "      <th>...</th>\n",
       "      <td>...</td>\n",
       "    </tr>\n",
       "    <tr>\n",
       "      <th>20486</th>\n",
       "      <td>best kept secret time staying charm. not star ...</td>\n",
       "    </tr>\n",
       "    <tr>\n",
       "      <th>20487</th>\n",
       "      <td>great location price view hotel great quick pl...</td>\n",
       "    </tr>\n",
       "    <tr>\n",
       "      <th>20488</th>\n",
       "      <td>ok just looks nice modern outside. desk staff ...</td>\n",
       "    </tr>\n",
       "    <tr>\n",
       "      <th>20489</th>\n",
       "      <td>hotel theft ruined vacation hotel opened sept ...</td>\n",
       "    </tr>\n",
       "    <tr>\n",
       "      <th>20490</th>\n",
       "      <td>people talking. can not believe excellent rati...</td>\n",
       "    </tr>\n",
       "  </tbody>\n",
       "</table>\n",
       "<p>20491 rows × 1 columns</p>\n",
       "</div>"
      ],
      "text/plain": [
       "                                                   clean\n",
       "0      nice hotel expensive parking got good deal sta...\n",
       "1      ok nothing special charge diamond member hilto...\n",
       "2      nice rooms not experience hotel monaco seattle...\n",
       "3      unique. great stay. wonderful time hotel monac...\n",
       "4      great stay great stay. went seahawk game aweso...\n",
       "...                                                  ...\n",
       "20486  best kept secret time staying charm. not star ...\n",
       "20487  great location price view hotel great quick pl...\n",
       "20488  ok just looks nice modern outside. desk staff ...\n",
       "20489  hotel theft ruined vacation hotel opened sept ...\n",
       "20490  people talking. can not believe excellent rati...\n",
       "\n",
       "[20491 rows x 1 columns]"
      ]
     },
     "execution_count": 34,
     "metadata": {},
     "output_type": "execute_result"
    }
   ],
   "source": [
    "df=dataset[\"clean\"].to_frame()\n",
    "df.astype(str)"
   ]
  },
  {
   "cell_type": "code",
   "execution_count": 35,
   "id": "46c5e66f-c970-4685-a5b1-fd646e7109b7",
   "metadata": {},
   "outputs": [],
   "source": [
    "from nltk.sentiment.vader import SentimentIntensityAnalyzer as sid\n",
    "# new one prints only the compound number\n",
    "\n",
    "def polarity_detection_vader(text):\n",
    "    analyzer = sid()\n",
    "    vs = analyzer.polarity_scores(text)\n",
    "    return float(vs['compound'])"
   ]
  },
  {
   "cell_type": "code",
   "execution_count": 36,
   "id": "3e59c30b-38b3-4016-ab69-31b0fd87290c",
   "metadata": {},
   "outputs": [],
   "source": [
    "def condition(r):\n",
    "    if (r >=0.99):\n",
    "        label = \"excellent\"\n",
    "    elif(r>= 0.8):\n",
    "        label=\"positive\"\n",
    "    elif(r <= 0.05):\n",
    "        label = \"negative\"\n",
    "    else:\n",
    "        label = \"neutral\"\n",
    "    return label"
   ]
  },
  {
   "cell_type": "code",
   "execution_count": 37,
   "id": "00074e71-8b52-4ea8-bd82-5c8f10fb0048",
   "metadata": {},
   "outputs": [
    {
     "data": {
      "text/html": [
       "<div>\n",
       "<style scoped>\n",
       "    .dataframe tbody tr th:only-of-type {\n",
       "        vertical-align: middle;\n",
       "    }\n",
       "\n",
       "    .dataframe tbody tr th {\n",
       "        vertical-align: top;\n",
       "    }\n",
       "\n",
       "    .dataframe thead th {\n",
       "        text-align: right;\n",
       "    }\n",
       "</style>\n",
       "<table border=\"1\" class=\"dataframe\">\n",
       "  <thead>\n",
       "    <tr style=\"text-align: right;\">\n",
       "      <th></th>\n",
       "      <th>clean</th>\n",
       "      <th>polarity</th>\n",
       "      <th>classification</th>\n",
       "    </tr>\n",
       "  </thead>\n",
       "  <tbody>\n",
       "    <tr>\n",
       "      <th>0</th>\n",
       "      <td>nice hotel expensive parking got good deal sta...</td>\n",
       "      <td>0.9747</td>\n",
       "      <td>positive</td>\n",
       "    </tr>\n",
       "    <tr>\n",
       "      <th>1</th>\n",
       "      <td>ok nothing special charge diamond member hilto...</td>\n",
       "      <td>0.9830</td>\n",
       "      <td>positive</td>\n",
       "    </tr>\n",
       "    <tr>\n",
       "      <th>2</th>\n",
       "      <td>nice rooms not experience hotel monaco seattle...</td>\n",
       "      <td>0.9906</td>\n",
       "      <td>excellent</td>\n",
       "    </tr>\n",
       "    <tr>\n",
       "      <th>3</th>\n",
       "      <td>unique. great stay. wonderful time hotel monac...</td>\n",
       "      <td>0.9946</td>\n",
       "      <td>excellent</td>\n",
       "    </tr>\n",
       "    <tr>\n",
       "      <th>4</th>\n",
       "      <td>great stay great stay. went seahawk game aweso...</td>\n",
       "      <td>0.9906</td>\n",
       "      <td>excellent</td>\n",
       "    </tr>\n",
       "    <tr>\n",
       "      <th>...</th>\n",
       "      <td>...</td>\n",
       "      <td>...</td>\n",
       "      <td>...</td>\n",
       "    </tr>\n",
       "    <tr>\n",
       "      <th>20486</th>\n",
       "      <td>best kept secret time staying charm. not star ...</td>\n",
       "      <td>0.9875</td>\n",
       "      <td>positive</td>\n",
       "    </tr>\n",
       "    <tr>\n",
       "      <th>20487</th>\n",
       "      <td>great location price view hotel great quick pl...</td>\n",
       "      <td>0.9790</td>\n",
       "      <td>positive</td>\n",
       "    </tr>\n",
       "    <tr>\n",
       "      <th>20488</th>\n",
       "      <td>ok just looks nice modern outside. desk staff ...</td>\n",
       "      <td>0.8122</td>\n",
       "      <td>positive</td>\n",
       "    </tr>\n",
       "    <tr>\n",
       "      <th>20489</th>\n",
       "      <td>hotel theft ruined vacation hotel opened sept ...</td>\n",
       "      <td>0.9628</td>\n",
       "      <td>positive</td>\n",
       "    </tr>\n",
       "    <tr>\n",
       "      <th>20490</th>\n",
       "      <td>people talking. can not believe excellent rati...</td>\n",
       "      <td>0.8685</td>\n",
       "      <td>positive</td>\n",
       "    </tr>\n",
       "  </tbody>\n",
       "</table>\n",
       "<p>20491 rows × 3 columns</p>\n",
       "</div>"
      ],
      "text/plain": [
       "                                                   clean  polarity  \\\n",
       "0      nice hotel expensive parking got good deal sta...    0.9747   \n",
       "1      ok nothing special charge diamond member hilto...    0.9830   \n",
       "2      nice rooms not experience hotel monaco seattle...    0.9906   \n",
       "3      unique. great stay. wonderful time hotel monac...    0.9946   \n",
       "4      great stay great stay. went seahawk game aweso...    0.9906   \n",
       "...                                                  ...       ...   \n",
       "20486  best kept secret time staying charm. not star ...    0.9875   \n",
       "20487  great location price view hotel great quick pl...    0.9790   \n",
       "20488  ok just looks nice modern outside. desk staff ...    0.8122   \n",
       "20489  hotel theft ruined vacation hotel opened sept ...    0.9628   \n",
       "20490  people talking. can not believe excellent rati...    0.8685   \n",
       "\n",
       "      classification  \n",
       "0           positive  \n",
       "1           positive  \n",
       "2          excellent  \n",
       "3          excellent  \n",
       "4          excellent  \n",
       "...              ...  \n",
       "20486       positive  \n",
       "20487       positive  \n",
       "20488       positive  \n",
       "20489       positive  \n",
       "20490       positive  \n",
       "\n",
       "[20491 rows x 3 columns]"
      ]
     },
     "execution_count": 37,
     "metadata": {},
     "output_type": "execute_result"
    }
   ],
   "source": [
    "df[\"polarity\"] = df[\"clean\"].apply(lambda x: polarity_detection_vader(x))\n",
    "df[\"classification\"] = df[\"polarity\"].apply(lambda s: condition(s))\n",
    "df"
   ]
  },
  {
   "cell_type": "code",
   "execution_count": 38,
   "id": "cbaf6f03-22f8-4d1b-94c8-5319e46b2149",
   "metadata": {},
   "outputs": [],
   "source": [
    "#would recommend to save it as the sentiment analysis takes quite long and it is better to have it saved in case the kernel stops or turns unknown\n",
    "#uncomment this code when wanting to save the dataframes and changes made \n",
    "#I called it simply df\n",
    "\n",
    "#df.to_pickle(\"./data/df.pkl\")"
   ]
  },
  {
   "cell_type": "code",
   "execution_count": 39,
   "id": "cf3f0e5c-0585-49cd-8d69-5269c415b2c3",
   "metadata": {},
   "outputs": [],
   "source": [
    "#with open(\"./data/df.pkl\", 'rb') as f:   \n",
    " #   df = pickle.load(f)"
   ]
  },
  {
   "cell_type": "code",
   "execution_count": 40,
   "id": "69b4571f-0894-4bec-a043-03c7390f9d0e",
   "metadata": {},
   "outputs": [],
   "source": [
    "#df"
   ]
  },
  {
   "cell_type": "code",
   "execution_count": 41,
   "id": "8d390181-ab16-4ba7-9f60-e0f817fae098",
   "metadata": {},
   "outputs": [
    {
     "data": {
      "text/plain": [
       "positive     12447\n",
       "excellent     4935\n",
       "negative      1613\n",
       "neutral       1496\n",
       "Name: classification, dtype: int64"
      ]
     },
     "execution_count": 41,
     "metadata": {},
     "output_type": "execute_result"
    }
   ],
   "source": [
    "df[\"classification\"].value_counts()"
   ]
  },
  {
   "cell_type": "code",
   "execution_count": 42,
   "id": "c1e7a892-f5e4-45c5-8dc6-ecfa37ecd05c",
   "metadata": {},
   "outputs": [
    {
     "name": "stdout",
     "output_type": "stream",
     "text": [
      "Requirement already satisfied: wordcloud in /opt/conda/lib/python3.9/site-packages (1.8.2.2)\n",
      "Requirement already satisfied: pillow in /opt/conda/lib/python3.9/site-packages (from wordcloud) (8.3.2)\n",
      "Requirement already satisfied: matplotlib in /opt/conda/lib/python3.9/site-packages (from wordcloud) (3.4.3)\n",
      "Requirement already satisfied: numpy>=1.6.1 in /opt/conda/lib/python3.9/site-packages (from wordcloud) (1.20.3)\n",
      "Requirement already satisfied: pyparsing>=2.2.1 in /opt/conda/lib/python3.9/site-packages (from matplotlib->wordcloud) (2.4.7)\n",
      "Requirement already satisfied: python-dateutil>=2.7 in /opt/conda/lib/python3.9/site-packages (from matplotlib->wordcloud) (2.8.2)\n",
      "Requirement already satisfied: cycler>=0.10 in /opt/conda/lib/python3.9/site-packages (from matplotlib->wordcloud) (0.10.0)\n",
      "Requirement already satisfied: kiwisolver>=1.0.1 in /opt/conda/lib/python3.9/site-packages (from matplotlib->wordcloud) (1.3.2)\n",
      "Requirement already satisfied: six in /opt/conda/lib/python3.9/site-packages (from cycler>=0.10->matplotlib->wordcloud) (1.16.0)\n"
     ]
    }
   ],
   "source": [
    "!pip install wordcloud"
   ]
  },
  {
   "cell_type": "code",
   "execution_count": 43,
   "id": "af2601ec-ffe9-4879-a351-8187378f65d7",
   "metadata": {},
   "outputs": [],
   "source": [
    "import matplotlib\n",
    "import matplotlib.pyplot as plt\n",
    "%matplotlib inline\n",
    "matplotlib.rcParams['figure.figsize'] = (10.0, 6.0)\n",
    "pd.options.display.max_columns = 30\n",
    "from wordcloud import WordCloud"
   ]
  },
  {
   "cell_type": "code",
   "execution_count": 44,
   "id": "4f2e595b-0b12-41fe-a6f1-94ad24aef1e7",
   "metadata": {},
   "outputs": [
    {
     "data": {
      "image/png": "[encoded data removed]",
      "text/plain": [
       "<Figure size 720x432 with 1 Axes>"
      ]
     },
     "metadata": {
      "needs_background": "light"
     },
     "output_type": "display_data"
    }
   ],
   "source": [
    "counter = df[\"classification\"].value_counts() # creates a panda series which counts the number of articles in each polarity group number of their occurances in the column (shows how many articles there are in each polarity)\n",
    "\n",
    "bar = counter.plot.bar(rot=0, title = \"Number of reviews\", \n",
    "                       xlabel = \"Polarity\", ylabel = \"Number of reviews in each polarity\")\n",
    "\n",
    "for p in bar.patches: # annotates the bars for further clarity\n",
    "    bar.annotate(format(p.get_height(), '.1f'), \n",
    "                   (p.get_x() + p.get_width() / 2., p.get_height()), \n",
    "                   ha = 'center', va = 'center', \n",
    "                   xytext = (0, 9), \n",
    "                   textcoords = 'offset points')    \n",
    "    \n",
    "plt.show()"
   ]
  },
  {
   "cell_type": "markdown",
   "id": "948c50ac-db19-4936-830b-173622373c46",
   "metadata": {},
   "source": [
    "### Part 3, Sentiment and Keyword Analysis"
   ]
  },
  {
   "cell_type": "code",
   "execution_count": 45,
   "id": "6e241c97-2902-4149-b8c5-ecaf9eec0321",
   "metadata": {},
   "outputs": [
    {
     "data": {
      "image/png": "[encoded data removed]",
      "text/plain": [
       "<Figure size 1080x1080 with 1 Axes>"
      ]
     },
     "metadata": {
      "needs_background": "light"
     },
     "output_type": "display_data"
    }
   ],
   "source": [
    "data=dataset\n",
    "stop = [\"lot\", \"stay\", \"really\",\"look\", \"thought\", \"use\",\"did\", \"make\"] + list(en_stopwords)\n",
    "wc = WordCloud(stopwords=stop, max_words=700, margin=10, background_color='black',\n",
    "scale=3, relative_scaling = 0.4, width=500, height=400,\n",
    "random_state=1).generate(' '.join(dataset['clean']))\n",
    "plt.figure(figsize=(15,15))\n",
    "plt.imshow(wc, interpolation=\"bilinear\")\n",
    "plt.axis(\"off\")\n",
    "plt.show()"
   ]
  },
  {
   "cell_type": "code",
   "execution_count": 46,
   "id": "b105d09f-642d-4222-a5ef-4ef8a24c5b1b",
   "metadata": {},
   "outputs": [
    {
     "data": {
      "text/plain": [
       "[('hotel', 42306),\n",
       " ('not', 35378),\n",
       " ('room', 30834),\n",
       " ('great', 18885),\n",
       " ('staff', 15197),\n",
       " ('good', 14915),\n",
       " ('did', 14205),\n",
       " ('just', 12523),\n",
       " ('no', 11467),\n",
       " ('stay', 11407),\n",
       " ('rooms', 11175),\n",
       " ('nice', 10964),\n",
       " ('.', 10467),\n",
       " ('stayed', 10047),\n",
       " ('location', 9712),\n",
       " ('breakfast', 8732),\n",
       " ('service', 8690),\n",
       " ('beach', 8399),\n",
       " ('food', 8271),\n",
       " ('night', 7860)]"
      ]
     },
     "execution_count": 46,
     "metadata": {},
     "output_type": "execute_result"
    }
   ],
   "source": [
    "from collections import Counter\n",
    "Counter(\" \".join(dataset[\"clean\"]).split()).most_common(20)"
   ]
  },
  {
   "cell_type": "code",
   "execution_count": 47,
   "id": "720b6267-911a-4e12-86e7-2c7e4b686c95",
   "metadata": {},
   "outputs": [],
   "source": [
    "FnB=[\"breakfast\", \"dinner\", \"wine\", \"drinks\", \"food\", \"lunch\", \"main course\", \"eggs\", \"buffet\", \"coffee\", \"restaurant\", \"soft drinks\", \"cocktail\", \"long drink\", \"beer\", \"salad\", \"entre\", \"tea\", \"soup\", \"water\", \"fresh\", \"salt\"]\n",
    "rooms= [\"room\", \"rooms\", \"matress\", \"bathroom\", \"bed\", \"beds\", \"toilet\", \"curtain\", \"balcony\", \"clean\", \"pillow\", \"soap\",\"loud\", \"keycard, key\", \"lock\", \"safe\", \"shower\", \"sink\", \"water pressure\", \"hot water\", \"cold water\", \"hair dryer\", \"coffee maker\", \"blanket\", \"cupboard\", \"light\", \"lights\", \"light switch\", \"air condition\", \"heater\", \"carpet\"]\n",
    "staff= [\"nice\", \"friendly\", \"helpful\", \"kind\", \"eager\", \"receptionist\", \"reception\", \"welcome\", \"waiter\", \"waitress\", \"housekeeping\", \"chef\",\"service, staff\", \"employees\", \"employee\", \"rude\", \"unfriendly\", \"hotelier\"]\n",
    "spa=[\"clean\", \"pool\", \"sauna\", \"water temperature\", \"water\", \"relax\", \"massage\", \"beauty\", \"jacuzzi\", \"silent areas\", \"relax area\", \"rest room\"]\n",
    "hotel_general= [\"reception\",\"resort\",\"outdoor area\", \"inside\", \"outside\", \"interior\", \"bar\", \"lounge\", \"smoking area\", \"exterior\", \"vacation\", \"beach\", \"kids club\", \"night\", \"family\", \"money\", \"price\", \"location\", \"stay\", \"restaurant\", \"airport\", \"payment\", \"cash\", \"lobby\", \"holiday\", \"credit card\", \"transfer\", \"transportation\" ]"
   ]
  },
  {
   "cell_type": "code",
   "execution_count": 51,
   "id": "35dd830a-c189-425f-9b18-6b49435ae8c7",
   "metadata": {},
   "outputs": [
    {
     "data": {
      "text/html": [
       "<div>\n",
       "<style scoped>\n",
       "    .dataframe tbody tr th:only-of-type {\n",
       "        vertical-align: middle;\n",
       "    }\n",
       "\n",
       "    .dataframe tbody tr th {\n",
       "        vertical-align: top;\n",
       "    }\n",
       "\n",
       "    .dataframe thead th {\n",
       "        text-align: right;\n",
       "    }\n",
       "</style>\n",
       "<table border=\"1\" class=\"dataframe\">\n",
       "  <thead>\n",
       "    <tr style=\"text-align: right;\">\n",
       "      <th></th>\n",
       "      <th>clean</th>\n",
       "    </tr>\n",
       "  </thead>\n",
       "  <tbody>\n",
       "    <tr>\n",
       "      <th>0</th>\n",
       "      <td>[nice hotel expensive parking got good deal st...</td>\n",
       "    </tr>\n",
       "    <tr>\n",
       "      <th>1</th>\n",
       "      <td>[ok nothing special charge diamond member hilt...</td>\n",
       "    </tr>\n",
       "    <tr>\n",
       "      <th>2</th>\n",
       "      <td>[nice rooms not experience hotel monaco seattl...</td>\n",
       "    </tr>\n",
       "    <tr>\n",
       "      <th>3</th>\n",
       "      <td>[unique., great stay., wonderful time hotel mo...</td>\n",
       "    </tr>\n",
       "    <tr>\n",
       "      <th>4</th>\n",
       "      <td>[great stay great stay., went seahawk game awe...</td>\n",
       "    </tr>\n",
       "    <tr>\n",
       "      <th>...</th>\n",
       "      <td>...</td>\n",
       "    </tr>\n",
       "    <tr>\n",
       "      <th>20486</th>\n",
       "      <td>[best kept secret time staying charm., not sta...</td>\n",
       "    </tr>\n",
       "    <tr>\n",
       "      <th>20487</th>\n",
       "      <td>[great location price view hotel great quick p...</td>\n",
       "    </tr>\n",
       "    <tr>\n",
       "      <th>20488</th>\n",
       "      <td>[ok just looks nice modern outside., desk staf...</td>\n",
       "    </tr>\n",
       "    <tr>\n",
       "      <th>20489</th>\n",
       "      <td>[hotel theft ruined vacation hotel opened sept...</td>\n",
       "    </tr>\n",
       "    <tr>\n",
       "      <th>20490</th>\n",
       "      <td>[people talking., can not believe excellent ra...</td>\n",
       "    </tr>\n",
       "  </tbody>\n",
       "</table>\n",
       "<p>20491 rows × 1 columns</p>\n",
       "</div>"
      ],
      "text/plain": [
       "                                                   clean\n",
       "0      [nice hotel expensive parking got good deal st...\n",
       "1      [ok nothing special charge diamond member hilt...\n",
       "2      [nice rooms not experience hotel monaco seattl...\n",
       "3      [unique., great stay., wonderful time hotel mo...\n",
       "4      [great stay great stay., went seahawk game awe...\n",
       "...                                                  ...\n",
       "20486  [best kept secret time staying charm., not sta...\n",
       "20487  [great location price view hotel great quick p...\n",
       "20488  [ok just looks nice modern outside., desk staf...\n",
       "20489  [hotel theft ruined vacation hotel opened sept...\n",
       "20490  [people talking., can not believe excellent ra...\n",
       "\n",
       "[20491 rows x 1 columns]"
      ]
     },
     "execution_count": 51,
     "metadata": {},
     "output_type": "execute_result"
    }
   ],
   "source": [
    "data_token=pd.DataFrame(dataset[\"clean\"].apply(lambda s: sent_tokenize(s)))\n",
    "data_token\n",
    "#dataset does not tokenize sentences but includes the entire reviews, whereas the data_token is the dataset but with tokenized sentences"
   ]
  },
  {
   "cell_type": "raw",
   "id": "b33233bd-63fa-4eae-a1bb-433c4643198a",
   "metadata": {},
   "source": [
    "with open(\"./data/dataset_sen_tok.pkl\", 'rb') as f:\n",
    "    \n",
    "    data_token = pickle.load(f)"
   ]
  },
  {
   "cell_type": "markdown",
   "id": "bfbe9f8b-d22a-4894-9523-f3b7e7c435b3",
   "metadata": {},
   "source": [
    "Try k-means clustering in order to certain keywords and possible areas, if the results were good, one could use it for defining keywords.  \n",
    "However, the results were giving some indication as to which areas one could pick but not enough to rely on the clusters and create keyword lists only from the keywords shown in the clusters."
   ]
  },
  {
   "cell_type": "code",
   "execution_count": 52,
   "id": "99d64611-db55-4f0b-8896-a9d43a60c6cc",
   "metadata": {},
   "outputs": [],
   "source": [
    "clean_list =  list(data_token[\"clean\"])\n",
    "#first made the column a list"
   ]
  },
  {
   "cell_type": "code",
   "execution_count": 53,
   "id": "2f8b1cd1-2f5d-465b-996e-ffa1abdc8f26",
   "metadata": {},
   "outputs": [],
   "source": [
    "list_new = [x for xs in clean_list for x in xs]\n",
    "#then made it a flat list and called it new list"
   ]
  },
  {
   "cell_type": "code",
   "execution_count": 54,
   "id": "151c998f-fbf3-406b-ad28-1ccc4566b9b5",
   "metadata": {},
   "outputs": [
    {
     "name": "stdout",
     "output_type": "stream",
     "text": [
      "Top terms per cluster:\n",
      "Cluster 0:\n",
      " did\n",
      " beach\n",
      " resort\n",
      " just\n",
      " nice\n",
      "Cluster 1:\n",
      " hotel\n",
      " great\n",
      " location\n",
      " stayed\n",
      " recommend\n",
      "Cluster 2:\n",
      " room\n",
      " clean\n",
      " view\n",
      " floor\n",
      " nice\n",
      "Cluster 3:\n",
      " rooms\n",
      " clean\n",
      " small\n",
      " comfortable\n",
      " nice\n",
      "Cluster 4:\n",
      " stay\n",
      " definitely\n",
      " hotel\n",
      " place\n",
      " great\n",
      "Cluster 5:\n",
      " good\n",
      " food\n",
      " breakfast\n",
      " hotel\n",
      " location\n",
      "Cluster 6:\n",
      " staff\n",
      " friendly\n",
      " helpful\n",
      " hotel\n",
      " great\n",
      "\n",
      "\n",
      "Prediction\n"
     ]
    }
   ],
   "source": [
    "from sklearn.feature_extraction.text import TfidfVectorizer\n",
    "from sklearn.cluster import KMeans\n",
    "from sklearn.metrics import adjusted_rand_score\n",
    "\n",
    "vectorizer = TfidfVectorizer(stop_words='english')\n",
    "X = vectorizer.fit_transform(list_new)\n",
    "\n",
    "true_k = 7\n",
    "model = KMeans(n_clusters=true_k, init='k-means++', max_iter=100, n_init=1)\n",
    "model.fit(X)\n",
    "\n",
    "print(\"Top terms per cluster:\")\n",
    "order_centroids = model.cluster_centers_.argsort()[:, ::-1]\n",
    "terms = vectorizer.get_feature_names_out()\n",
    "for i in range(true_k):\n",
    "    print(\"Cluster %d:\" % i),\n",
    "    for ind in order_centroids[i, :5]:\n",
    "        print(' %s' % terms[ind]),\n",
    "    print\n",
    "\n",
    "print(\"\\n\")\n",
    "print(\"Prediction\")\n",
    "\n"
   ]
  },
  {
   "cell_type": "code",
   "execution_count": 55,
   "id": "66779b73-5ffd-4fa1-8a1c-b701a2e7d066",
   "metadata": {},
   "outputs": [],
   "source": [
    "list_FnB=[]\n",
    "#create the FnB list"
   ]
  },
  {
   "cell_type": "code",
   "execution_count": 56,
   "id": "3497ce0c-727c-4a57-8338-4adb126ff950",
   "metadata": {},
   "outputs": [],
   "source": [
    "for word in FnB:\n",
    "    for sentence in list_new:\n",
    "        if word in sentence:\n",
    "            list_FnB.append(sentence)\n",
    "            #append all the sentences where one or more keywords appear"
   ]
  },
  {
   "cell_type": "code",
   "execution_count": 57,
   "id": "c233b125-9bce-40fd-8f8d-2a8d1eaec434",
   "metadata": {},
   "outputs": [
    {
     "data": {
      "text/html": [
       "<div>\n",
       "<style scoped>\n",
       "    .dataframe tbody tr th:only-of-type {\n",
       "        vertical-align: middle;\n",
       "    }\n",
       "\n",
       "    .dataframe tbody tr th {\n",
       "        vertical-align: top;\n",
       "    }\n",
       "\n",
       "    .dataframe thead th {\n",
       "        text-align: right;\n",
       "    }\n",
       "</style>\n",
       "<table border=\"1\" class=\"dataframe\">\n",
       "  <thead>\n",
       "    <tr style=\"text-align: right;\">\n",
       "      <th></th>\n",
       "      <th>FnB</th>\n",
       "    </tr>\n",
       "  </thead>\n",
       "  <tbody>\n",
       "    <tr>\n",
       "      <th>0</th>\n",
       "      <td>took printed reservation desk showed said thin...</td>\n",
       "    </tr>\n",
       "    <tr>\n",
       "      <th>1</th>\n",
       "      <td>asked desk good breakfast spots neighborhood h...</td>\n",
       "    </tr>\n",
       "    <tr>\n",
       "      <th>2</th>\n",
       "      <td>gee best breakfast spots seattle block away co...</td>\n",
       "    </tr>\n",
       "    <tr>\n",
       "      <th>3</th>\n",
       "      <td>far eaten lunch look forward breakfast tomorrow.</td>\n",
       "    </tr>\n",
       "    <tr>\n",
       "      <th>4</th>\n",
       "      <td>ate breakfast hotel drinks loungebar times.</td>\n",
       "    </tr>\n",
       "    <tr>\n",
       "      <th>...</th>\n",
       "      <td>...</td>\n",
       "    </tr>\n",
       "    <tr>\n",
       "      <th>57919</th>\n",
       "      <td>bring because would not able shower notowels b...</td>\n",
       "    </tr>\n",
       "    <tr>\n",
       "      <th>57920</th>\n",
       "      <td>water warm alot salty pacific opinion.</td>\n",
       "    </tr>\n",
       "    <tr>\n",
       "      <th>57921</th>\n",
       "      <td>provide water pitcher saltpepper coffeetea pac...</td>\n",
       "    </tr>\n",
       "    <tr>\n",
       "      <th>57922</th>\n",
       "      <td>no golden saffron colored rice like eating ins...</td>\n",
       "    </tr>\n",
       "    <tr>\n",
       "      <th>57923</th>\n",
       "      <td>great fan sea salt scrub black olive soap scru...</td>\n",
       "    </tr>\n",
       "  </tbody>\n",
       "</table>\n",
       "<p>57924 rows × 1 columns</p>\n",
       "</div>"
      ],
      "text/plain": [
       "                                                     FnB\n",
       "0      took printed reservation desk showed said thin...\n",
       "1      asked desk good breakfast spots neighborhood h...\n",
       "2      gee best breakfast spots seattle block away co...\n",
       "3       far eaten lunch look forward breakfast tomorrow.\n",
       "4            ate breakfast hotel drinks loungebar times.\n",
       "...                                                  ...\n",
       "57919  bring because would not able shower notowels b...\n",
       "57920             water warm alot salty pacific opinion.\n",
       "57921  provide water pitcher saltpepper coffeetea pac...\n",
       "57922  no golden saffron colored rice like eating ins...\n",
       "57923  great fan sea salt scrub black olive soap scru...\n",
       "\n",
       "[57924 rows x 1 columns]"
      ]
     },
     "execution_count": 57,
     "metadata": {},
     "output_type": "execute_result"
    }
   ],
   "source": [
    "df_FnB= pd.DataFrame(list_FnB)\n",
    "df_FnB.columns = [\"FnB\"]\n",
    "df_FnB\n",
    "#make a df again for sentiment analysis"
   ]
  },
  {
   "cell_type": "code",
   "execution_count": 58,
   "id": "585fc2c0-516d-47c6-96bf-2d186839d5b8",
   "metadata": {},
   "outputs": [],
   "source": [
    "list_rooms=[]"
   ]
  },
  {
   "cell_type": "code",
   "execution_count": 59,
   "id": "6d035567-6779-463a-b4a8-79f2f2c6c5bb",
   "metadata": {},
   "outputs": [],
   "source": [
    "for word in rooms:\n",
    "    for sentence in list_new:\n",
    "        if word in sentence:\n",
    "            list_rooms.append(sentence)\n",
    "            #append all the sentences where one or more keywords appear"
   ]
  },
  {
   "cell_type": "code",
   "execution_count": 60,
   "id": "82262c89-7ec9-4188-8e02-5356ee265c27",
   "metadata": {},
   "outputs": [
    {
     "data": {
      "text/html": [
       "<div>\n",
       "<style scoped>\n",
       "    .dataframe tbody tr th:only-of-type {\n",
       "        vertical-align: middle;\n",
       "    }\n",
       "\n",
       "    .dataframe tbody tr th {\n",
       "        vertical-align: top;\n",
       "    }\n",
       "\n",
       "    .dataframe thead th {\n",
       "        text-align: right;\n",
       "    }\n",
       "</style>\n",
       "<table border=\"1\" class=\"dataframe\">\n",
       "  <thead>\n",
       "    <tr style=\"text-align: right;\">\n",
       "      <th></th>\n",
       "      <th>rooms</th>\n",
       "    </tr>\n",
       "  </thead>\n",
       "  <tbody>\n",
       "    <tr>\n",
       "      <th>0</th>\n",
       "      <td>little disappointed nonexistent view room room...</td>\n",
       "    </tr>\n",
       "    <tr>\n",
       "      <th>1</th>\n",
       "      <td>not soundproof like heard music room night mor...</td>\n",
       "    </tr>\n",
       "    <tr>\n",
       "      <th>2</th>\n",
       "      <td>suite bedroom bathroom standard hotel room.</td>\n",
       "    </tr>\n",
       "    <tr>\n",
       "      <th>3</th>\n",
       "      <td>embassy suits sitting room bathroom bedroom un...</td>\n",
       "    </tr>\n",
       "    <tr>\n",
       "      <th>4</th>\n",
       "      <td>got nice email saying like deliver bottle cham...</td>\n",
       "    </tr>\n",
       "    <tr>\n",
       "      <th>...</th>\n",
       "      <td>...</td>\n",
       "    </tr>\n",
       "    <tr>\n",
       "      <th>108614</th>\n",
       "      <td>carpets dirty.</td>\n",
       "    </tr>\n",
       "    <tr>\n",
       "      <th>108615</th>\n",
       "      <td>bed worn carpeted floor littered dirt tiled ba...</td>\n",
       "    </tr>\n",
       "    <tr>\n",
       "      <th>108616</th>\n",
       "      <td>addition couple spots carpet fraying.</td>\n",
       "    </tr>\n",
       "    <tr>\n",
       "      <th>108617</th>\n",
       "      <td>another cool feature floor covered carpet mean...</td>\n",
       "    </tr>\n",
       "    <tr>\n",
       "      <th>108618</th>\n",
       "      <td>corridors dark smelt steam cleaned carpet mayb...</td>\n",
       "    </tr>\n",
       "  </tbody>\n",
       "</table>\n",
       "<p>108619 rows × 1 columns</p>\n",
       "</div>"
      ],
      "text/plain": [
       "                                                    rooms\n",
       "0       little disappointed nonexistent view room room...\n",
       "1       not soundproof like heard music room night mor...\n",
       "2             suite bedroom bathroom standard hotel room.\n",
       "3       embassy suits sitting room bathroom bedroom un...\n",
       "4       got nice email saying like deliver bottle cham...\n",
       "...                                                   ...\n",
       "108614                                     carpets dirty.\n",
       "108615  bed worn carpeted floor littered dirt tiled ba...\n",
       "108616              addition couple spots carpet fraying.\n",
       "108617  another cool feature floor covered carpet mean...\n",
       "108618  corridors dark smelt steam cleaned carpet mayb...\n",
       "\n",
       "[108619 rows x 1 columns]"
      ]
     },
     "execution_count": 60,
     "metadata": {},
     "output_type": "execute_result"
    }
   ],
   "source": [
    "df_rooms= pd.DataFrame(list_rooms)\n",
    "df_rooms.columns = [\"rooms\"]\n",
    "df_rooms\n",
    "#make a df again for sentiment analysis"
   ]
  },
  {
   "cell_type": "code",
   "execution_count": 61,
   "id": "a7d0c285-363b-4e68-91e9-42575f0c4ca5",
   "metadata": {},
   "outputs": [],
   "source": [
    "list_staff=[]"
   ]
  },
  {
   "cell_type": "code",
   "execution_count": 62,
   "id": "8b86fd36-08c5-468b-b045-0d62637fa1f1",
   "metadata": {},
   "outputs": [],
   "source": [
    "for word in staff:\n",
    "    for sentence in list_new:\n",
    "        if word in sentence:\n",
    "            list_staff.append(sentence)\n",
    "            #append all the sentences where one or more keywords appear"
   ]
  },
  {
   "cell_type": "code",
   "execution_count": 63,
   "id": "2b60d28c-8fc7-4910-a0cb-c077e2052cf3",
   "metadata": {},
   "outputs": [
    {
     "data": {
      "text/html": [
       "<div>\n",
       "<style scoped>\n",
       "    .dataframe tbody tr th:only-of-type {\n",
       "        vertical-align: middle;\n",
       "    }\n",
       "\n",
       "    .dataframe tbody tr th {\n",
       "        vertical-align: top;\n",
       "    }\n",
       "\n",
       "    .dataframe thead th {\n",
       "        text-align: right;\n",
       "    }\n",
       "</style>\n",
       "<table border=\"1\" class=\"dataframe\">\n",
       "  <thead>\n",
       "    <tr style=\"text-align: right;\">\n",
       "      <th></th>\n",
       "      <th>staff</th>\n",
       "    </tr>\n",
       "  </thead>\n",
       "  <tbody>\n",
       "    <tr>\n",
       "      <th>0</th>\n",
       "      <td>nice hotel expensive parking got good deal sta...</td>\n",
       "    </tr>\n",
       "    <tr>\n",
       "      <th>1</th>\n",
       "      <td>little disappointed nonexistent view room room...</td>\n",
       "    </tr>\n",
       "    <tr>\n",
       "      <th>2</th>\n",
       "      <td>aveda bath products nice.</td>\n",
       "    </tr>\n",
       "    <tr>\n",
       "      <th>3</th>\n",
       "      <td>did not goldfish stay nice touch taken advanta...</td>\n",
       "    </tr>\n",
       "    <tr>\n",
       "      <th>4</th>\n",
       "      <td>overall nice experience having pay parking night.</td>\n",
       "    </tr>\n",
       "    <tr>\n",
       "      <th>...</th>\n",
       "      <td>...</td>\n",
       "    </tr>\n",
       "    <tr>\n",
       "      <th>35456</th>\n",
       "      <td>skill hotelier shines important aspects.</td>\n",
       "    </tr>\n",
       "    <tr>\n",
       "      <th>35457</th>\n",
       "      <td>family owners hotel colomba michele rosanna gr...</td>\n",
       "    </tr>\n",
       "    <tr>\n",
       "      <th>35458</th>\n",
       "      <td>real hoteliers hotel.</td>\n",
       "    </tr>\n",
       "    <tr>\n",
       "      <th>35459</th>\n",
       "      <td>hearts sank informed transferring reservation ...</td>\n",
       "    </tr>\n",
       "    <tr>\n",
       "      <th>35460</th>\n",
       "      <td>hoteliers good service la commedia thanks just...</td>\n",
       "    </tr>\n",
       "  </tbody>\n",
       "</table>\n",
       "<p>35461 rows × 1 columns</p>\n",
       "</div>"
      ],
      "text/plain": [
       "                                                   staff\n",
       "0      nice hotel expensive parking got good deal sta...\n",
       "1      little disappointed nonexistent view room room...\n",
       "2                              aveda bath products nice.\n",
       "3      did not goldfish stay nice touch taken advanta...\n",
       "4      overall nice experience having pay parking night.\n",
       "...                                                  ...\n",
       "35456           skill hotelier shines important aspects.\n",
       "35457  family owners hotel colomba michele rosanna gr...\n",
       "35458                              real hoteliers hotel.\n",
       "35459  hearts sank informed transferring reservation ...\n",
       "35460  hoteliers good service la commedia thanks just...\n",
       "\n",
       "[35461 rows x 1 columns]"
      ]
     },
     "execution_count": 63,
     "metadata": {},
     "output_type": "execute_result"
    }
   ],
   "source": [
    "df_staff= pd.DataFrame(list_staff)\n",
    "df_staff.columns = [\"staff\"]\n",
    "df_staff\n",
    "#make a df again for sentiment analysis"
   ]
  },
  {
   "cell_type": "code",
   "execution_count": 64,
   "id": "85fc5057-7353-4a29-93b3-9fd3be3114cc",
   "metadata": {},
   "outputs": [],
   "source": [
    "list_spa=[]"
   ]
  },
  {
   "cell_type": "code",
   "execution_count": 65,
   "id": "2c121d28-ecfd-4123-ad62-b64dd781f793",
   "metadata": {},
   "outputs": [],
   "source": [
    "for word in spa:\n",
    "    for sentence in list_new:\n",
    "        if word in sentence:\n",
    "            list_spa.append(sentence)\n",
    "            #append all the sentences where one or more keywords appear"
   ]
  },
  {
   "cell_type": "code",
   "execution_count": 66,
   "id": "e9054a9d-e15f-4728-b8db-e5c78d17051d",
   "metadata": {},
   "outputs": [
    {
     "data": {
      "text/html": [
       "<div>\n",
       "<style scoped>\n",
       "    .dataframe tbody tr th:only-of-type {\n",
       "        vertical-align: middle;\n",
       "    }\n",
       "\n",
       "    .dataframe tbody tr th {\n",
       "        vertical-align: top;\n",
       "    }\n",
       "\n",
       "    .dataframe thead th {\n",
       "        text-align: right;\n",
       "    }\n",
       "</style>\n",
       "<table border=\"1\" class=\"dataframe\">\n",
       "  <thead>\n",
       "    <tr style=\"text-align: right;\">\n",
       "      <th></th>\n",
       "      <th>spa</th>\n",
       "    </tr>\n",
       "  </thead>\n",
       "  <tbody>\n",
       "    <tr>\n",
       "      <th>0</th>\n",
       "      <td>little disappointed nonexistent view room room...</td>\n",
       "    </tr>\n",
       "    <tr>\n",
       "      <th>1</th>\n",
       "      <td>arrival no champagne strawberries no foam pill...</td>\n",
       "    </tr>\n",
       "    <tr>\n",
       "      <th>2</th>\n",
       "      <td>this not start hotel clean business hotel supe...</td>\n",
       "    </tr>\n",
       "    <tr>\n",
       "      <th>3</th>\n",
       "      <td>bathroom attractive squeaky clean small compar...</td>\n",
       "    </tr>\n",
       "    <tr>\n",
       "      <th>4</th>\n",
       "      <td>beds nice bathrooms clean bright pocket doors ...</td>\n",
       "    </tr>\n",
       "    <tr>\n",
       "      <th>...</th>\n",
       "      <td>...</td>\n",
       "    </tr>\n",
       "    <tr>\n",
       "      <th>27904</th>\n",
       "      <td>said decor rest room uninspired apt.</td>\n",
       "    </tr>\n",
       "    <tr>\n",
       "      <th>27905</th>\n",
       "      <td>rest room great.</td>\n",
       "    </tr>\n",
       "    <tr>\n",
       "      <th>27906</th>\n",
       "      <td>rest room ok clean valid bathroom equipped int...</td>\n",
       "    </tr>\n",
       "    <tr>\n",
       "      <th>27907</th>\n",
       "      <td>rest room par hotel price range certainly noth...</td>\n",
       "    </tr>\n",
       "    <tr>\n",
       "      <th>27908</th>\n",
       "      <td>small room comfortable clean arrived oak hotel...</td>\n",
       "    </tr>\n",
       "  </tbody>\n",
       "</table>\n",
       "<p>27909 rows × 1 columns</p>\n",
       "</div>"
      ],
      "text/plain": [
       "                                                     spa\n",
       "0      little disappointed nonexistent view room room...\n",
       "1      arrival no champagne strawberries no foam pill...\n",
       "2      this not start hotel clean business hotel supe...\n",
       "3      bathroom attractive squeaky clean small compar...\n",
       "4      beds nice bathrooms clean bright pocket doors ...\n",
       "...                                                  ...\n",
       "27904               said decor rest room uninspired apt.\n",
       "27905                                   rest room great.\n",
       "27906  rest room ok clean valid bathroom equipped int...\n",
       "27907  rest room par hotel price range certainly noth...\n",
       "27908  small room comfortable clean arrived oak hotel...\n",
       "\n",
       "[27909 rows x 1 columns]"
      ]
     },
     "execution_count": 66,
     "metadata": {},
     "output_type": "execute_result"
    }
   ],
   "source": [
    "df_spa= pd.DataFrame(list_spa)\n",
    "df_spa.columns = [\"spa\"]\n",
    "df_spa\n",
    "#make a df again for sentiment analysis"
   ]
  },
  {
   "cell_type": "code",
   "execution_count": 67,
   "id": "6e67f21e-27fd-444d-b528-76073d4559f3",
   "metadata": {},
   "outputs": [],
   "source": [
    "list_hotel_general=[]"
   ]
  },
  {
   "cell_type": "code",
   "execution_count": 68,
   "id": "07f688b0-5540-4ea3-8839-88865b9a9494",
   "metadata": {},
   "outputs": [],
   "source": [
    "for word in hotel_general:\n",
    "    for sentence in list_new:\n",
    "        if word in sentence:\n",
    "            list_hotel_general.append(sentence)\n",
    "            #append all the sentences where one or more keywords appear"
   ]
  },
  {
   "cell_type": "code",
   "execution_count": 69,
   "id": "e4d75e80-2987-4bdc-b524-dee1872fceb6",
   "metadata": {},
   "outputs": [
    {
     "data": {
      "text/html": [
       "<div>\n",
       "<style scoped>\n",
       "    .dataframe tbody tr th:only-of-type {\n",
       "        vertical-align: middle;\n",
       "    }\n",
       "\n",
       "    .dataframe tbody tr th {\n",
       "        vertical-align: top;\n",
       "    }\n",
       "\n",
       "    .dataframe thead th {\n",
       "        text-align: right;\n",
       "    }\n",
       "</style>\n",
       "<table border=\"1\" class=\"dataframe\">\n",
       "  <thead>\n",
       "    <tr style=\"text-align: right;\">\n",
       "      <th></th>\n",
       "      <th>general_information</th>\n",
       "    </tr>\n",
       "  </thead>\n",
       "  <tbody>\n",
       "    <tr>\n",
       "      <th>0</th>\n",
       "      <td>afternoon reception serves oenophilesatisfying...</td>\n",
       "    </tr>\n",
       "    <tr>\n",
       "      <th>1</th>\n",
       "      <td>reception staff friendly professional room sma...</td>\n",
       "    </tr>\n",
       "    <tr>\n",
       "      <th>2</th>\n",
       "      <td>particularly liked reception small dog receive...</td>\n",
       "    </tr>\n",
       "    <tr>\n",
       "      <th>3</th>\n",
       "      <td>evening wine receptions popular.</td>\n",
       "    </tr>\n",
       "    <tr>\n",
       "      <th>4</th>\n",
       "      <td>wine reception boy better time walk like did l...</td>\n",
       "    </tr>\n",
       "    <tr>\n",
       "      <th>...</th>\n",
       "      <td>...</td>\n",
       "    </tr>\n",
       "    <tr>\n",
       "      <th>121702</th>\n",
       "      <td>the location great just steps market lots publ...</td>\n",
       "    </tr>\n",
       "    <tr>\n",
       "      <th>121703</th>\n",
       "      <td>chose price location close public transportation.</td>\n",
       "    </tr>\n",
       "    <tr>\n",
       "      <th>121704</th>\n",
       "      <td>however hotel lovely kind valet watched car in...</td>\n",
       "    </tr>\n",
       "    <tr>\n",
       "      <th>121705</th>\n",
       "      <td>tiny complaint asked man desk options terms tr...</td>\n",
       "    </tr>\n",
       "    <tr>\n",
       "      <th>121706</th>\n",
       "      <td>learned bus transportation free pioneer square...</td>\n",
       "    </tr>\n",
       "  </tbody>\n",
       "</table>\n",
       "<p>121707 rows × 1 columns</p>\n",
       "</div>"
      ],
      "text/plain": [
       "                                      general_information\n",
       "0       afternoon reception serves oenophilesatisfying...\n",
       "1       reception staff friendly professional room sma...\n",
       "2       particularly liked reception small dog receive...\n",
       "3                        evening wine receptions popular.\n",
       "4       wine reception boy better time walk like did l...\n",
       "...                                                   ...\n",
       "121702  the location great just steps market lots publ...\n",
       "121703  chose price location close public transportation.\n",
       "121704  however hotel lovely kind valet watched car in...\n",
       "121705  tiny complaint asked man desk options terms tr...\n",
       "121706  learned bus transportation free pioneer square...\n",
       "\n",
       "[121707 rows x 1 columns]"
      ]
     },
     "execution_count": 69,
     "metadata": {},
     "output_type": "execute_result"
    }
   ],
   "source": [
    "df_hotel_general= pd.DataFrame(list_hotel_general)\n",
    "df_hotel_general.columns = [\"general_information\"]\n",
    "df_hotel_general\n",
    "#make a df again for sentiment analysis"
   ]
  },
  {
   "cell_type": "code",
   "execution_count": 70,
   "id": "fedfd629-c536-4b37-8003-2da0dec4bbea",
   "metadata": {},
   "outputs": [],
   "source": [
    "from nltk.sentiment.vader import SentimentIntensityAnalyzer as sid\n",
    "# new one prints only the compound number\n",
    "\n",
    "def polarity_detection_vader(text):\n",
    "    analyzer = sid()\n",
    "    vs = analyzer.polarity_scores(text)\n",
    "    return float(vs['compound'])"
   ]
  },
  {
   "cell_type": "code",
   "execution_count": 71,
   "id": "b07a0cfa-381e-43c2-a38a-31230183bf90",
   "metadata": {},
   "outputs": [],
   "source": [
    "def condition(r):\n",
    "    if (r >=0.99):\n",
    "        label = \"excellent\"\n",
    "    elif(r>= 0.8):\n",
    "        label=\"positive\"\n",
    "    elif(r== 0):\n",
    "        label = \"NaN\"\n",
    "    elif(r <= 0.05):\n",
    "        label = \"negative\"\n",
    "   \n",
    "    else:\n",
    "        label = \"neutral\"\n",
    "    return label\n"
   ]
  },
  {
   "cell_type": "markdown",
   "id": "28f7585b-0f88-491b-87e9-9096e5f24b50",
   "metadata": {},
   "source": [
    "below the polarity and classification according to the labels shown above is added using the vader sentiment analysis, same as for the entire dataset."
   ]
  },
  {
   "cell_type": "code",
   "execution_count": 72,
   "id": "38e47996-23d8-4076-aa17-5dec8c2511f6",
   "metadata": {},
   "outputs": [],
   "source": [
    "df_FnB[\"FnB_polarity\"] = df_FnB[\"FnB\"].apply(lambda x: polarity_detection_vader(x))\n",
    "df_FnB[\"FnB_classification\"] = df_FnB[\"FnB_polarity\"].apply(lambda s: condition(s))\n",
    "df_FnB = df_FnB[df_FnB.FnB_polarity != 0.0000]\n",
    "df_FnB=df_FnB.reset_index(drop=True)"
   ]
  },
  {
   "cell_type": "code",
   "execution_count": 73,
   "id": "1c2b5fd7-a1dc-4fd4-a3f7-b8d6290da755",
   "metadata": {},
   "outputs": [],
   "source": [
    "df_rooms[\"rooms_polarity\"] = df_rooms[\"rooms\"].apply(lambda x: polarity_detection_vader(x))\n",
    "df_rooms[\"rooms_classification\"] = df_rooms[\"rooms_polarity\"].apply(lambda s: condition(s))\n",
    "df_rooms = df_rooms[df_rooms.rooms_polarity != 0.0000]\n",
    "df_rooms =df_rooms.reset_index(drop=True)"
   ]
  },
  {
   "cell_type": "code",
   "execution_count": 74,
   "id": "f3252753-8625-4b15-be29-e40ec6880f08",
   "metadata": {},
   "outputs": [],
   "source": [
    "df_staff[\"staff_polarity\"] = df_staff[\"staff\"].apply(lambda x: polarity_detection_vader(x))\n",
    "df_staff[\"staff_classification\"] = df_staff[\"staff_polarity\"].apply(lambda s: condition(s))\n",
    "df_staff = df_staff[df_staff.staff_polarity != 0.0000]\n",
    "df_staff=df_staff.reset_index(drop=True)"
   ]
  },
  {
   "cell_type": "code",
   "execution_count": 75,
   "id": "0ff0f17f-433d-449f-b2bc-8900162b5621",
   "metadata": {},
   "outputs": [],
   "source": [
    "df_spa[\"spa_polarity\"] = df_spa[\"spa\"].apply(lambda x: polarity_detection_vader(x))\n",
    "df_spa[\"spa_classification\"] = df_spa[\"spa_polarity\"].apply(lambda s: condition(s))\n",
    "df_spa = df_spa[df_spa.spa_polarity != 0.0000]\n",
    "df_spa =df_spa.reset_index(drop=True)"
   ]
  },
  {
   "cell_type": "code",
   "execution_count": 76,
   "id": "f2ae5e9c-df88-4297-a414-cae5cede45fd",
   "metadata": {},
   "outputs": [],
   "source": [
    "df_hotel_general[\"general_polarity\"] = df_hotel_general[\"general_information\"].apply(lambda x: polarity_detection_vader(x))\n",
    "df_hotel_general[\"general_classification\"] = df_hotel_general[\"general_polarity\"].apply(lambda s: condition(s))\n",
    "df_hotel_general = df_hotel_general[df_hotel_general.general_polarity != 0.0000]\n",
    "df_hotel_general= df_hotel_general.reset_index(drop=True)"
   ]
  },
  {
   "cell_type": "markdown",
   "id": "2183f7a1-3fe8-400a-acd8-30a747cb964a",
   "metadata": {},
   "source": [
    "the numbers of each classification are counted and shown below as well as the graphs for each of the data frames."
   ]
  },
  {
   "cell_type": "code",
   "execution_count": 77,
   "id": "d29f5e42-b257-4b7b-830d-3e874d31f7f9",
   "metadata": {},
   "outputs": [
    {
     "name": "stdout",
     "output_type": "stream",
     "text": [
      "neutral      28323\n",
      "negative      8802\n",
      "positive      7527\n",
      "excellent       57\n",
      "Name: FnB_classification, dtype: int64 \n",
      " neutral      51796\n",
      "negative     19247\n",
      "positive     14186\n",
      "excellent       69\n",
      "Name: rooms_classification, dtype: int64 \n",
      " neutral      22108\n",
      "positive      8420\n",
      "negative      3492\n",
      "excellent       24\n",
      "Name: staff_classification, dtype: int64 \n",
      " neutral      15297\n",
      "positive      5233\n",
      "negative      3151\n",
      "excellent       24\n",
      "Name: spa_classification, dtype: int64 \n",
      " neutral      59455\n",
      "negative     17823\n",
      "positive     17303\n",
      "excellent       87\n",
      "Name: general_classification, dtype: int64\n"
     ]
    }
   ],
   "source": [
    "print(df_FnB[ \"FnB_classification\"].value_counts(),\"\\n\",\n",
    "      df_rooms[\"rooms_classification\"].value_counts(),\"\\n\",\n",
    "      df_staff[\"staff_classification\"].value_counts(),\"\\n\",\n",
    "      df_spa[\"spa_classification\"].value_counts(),\"\\n\",\n",
    "      df_hotel_general[\"general_classification\"].value_counts())"
   ]
  },
  {
   "cell_type": "markdown",
   "id": "72434a09-c155-446b-8df6-d5ba1c88ec8e",
   "metadata": {},
   "source": [
    "the graphs, created usding matplotlib are created to better visualize the outcome of the sentiment analysis for each area"
   ]
  },
  {
   "cell_type": "code",
   "execution_count": 78,
   "id": "e5ca3ba0-1bff-43f1-9a6d-7b10ddd88449",
   "metadata": {},
   "outputs": [
    {
     "name": "stdout",
     "output_type": "stream",
     "text": [
      "Requirement already satisfied: wordcloud in /opt/conda/lib/python3.9/site-packages (1.8.2.2)\n",
      "Requirement already satisfied: pillow in /opt/conda/lib/python3.9/site-packages (from wordcloud) (8.3.2)\n",
      "Requirement already satisfied: matplotlib in /opt/conda/lib/python3.9/site-packages (from wordcloud) (3.4.3)\n",
      "Requirement already satisfied: numpy>=1.6.1 in /opt/conda/lib/python3.9/site-packages (from wordcloud) (1.20.3)\n",
      "Requirement already satisfied: python-dateutil>=2.7 in /opt/conda/lib/python3.9/site-packages (from matplotlib->wordcloud) (2.8.2)\n",
      "Requirement already satisfied: pyparsing>=2.2.1 in /opt/conda/lib/python3.9/site-packages (from matplotlib->wordcloud) (2.4.7)\n",
      "Requirement already satisfied: cycler>=0.10 in /opt/conda/lib/python3.9/site-packages (from matplotlib->wordcloud) (0.10.0)\n",
      "Requirement already satisfied: kiwisolver>=1.0.1 in /opt/conda/lib/python3.9/site-packages (from matplotlib->wordcloud) (1.3.2)\n",
      "Requirement already satisfied: six in /opt/conda/lib/python3.9/site-packages (from cycler>=0.10->matplotlib->wordcloud) (1.16.0)\n"
     ]
    }
   ],
   "source": [
    "!pip install wordcloud"
   ]
  },
  {
   "cell_type": "code",
   "execution_count": 79,
   "id": "5dfb2ec5-7307-40b4-90fe-ebaf3c200449",
   "metadata": {},
   "outputs": [],
   "source": [
    "import matplotlib\n",
    "import matplotlib.pyplot as plt\n",
    "%matplotlib inline\n",
    "matplotlib.rcParams['figure.figsize'] = (10.0, 6.0)\n",
    "pd.options.display.max_columns = 30\n",
    "from wordcloud import WordCloud"
   ]
  },
  {
   "cell_type": "code",
   "execution_count": 80,
   "id": "052cb6c6-60bd-4415-837f-29d3d03334c5",
   "metadata": {},
   "outputs": [
    {
     "data": {
      "image/png": "[encoded data removed]",
      "text/plain": [
       "<Figure size 720x432 with 1 Axes>"
      ]
     },
     "metadata": {
      "needs_background": "light"
     },
     "output_type": "display_data"
    }
   ],
   "source": [
    "counter = df_FnB[\"FnB_classification\"].value_counts() # creates a panda series which counts the number of articles in each polarity group number of their occurances in the column (shows how many articles there are in each polarity)\n",
    "\n",
    "bar = counter.plot.bar(rot=0, title = \"Number of sentences for FnB keywords \", \n",
    "                       xlabel = \"Polarity\", ylabel = \"Number of sentences in each polarity\")\n",
    "\n",
    "for p in bar.patches: # annotates the bars for further clarity\n",
    "    bar.annotate(format(p.get_height(), '.1f'), \n",
    "                   (p.get_x() + p.get_width() / 2., p.get_height()), \n",
    "                   ha = 'center', va = 'center', \n",
    "                   xytext = (0, 9), \n",
    "                   textcoords = 'offset points')    \n",
    "    \n",
    "plt.show()"
   ]
  },
  {
   "cell_type": "code",
   "execution_count": 81,
   "id": "f1c099db-4ea3-4b62-83ca-3a03ba60005f",
   "metadata": {},
   "outputs": [
    {
     "data": {
      "image/png": "[encoded data removed]",
      "text/plain": [
       "<Figure size 720x432 with 1 Axes>"
      ]
     },
     "metadata": {
      "needs_background": "light"
     },
     "output_type": "display_data"
    }
   ],
   "source": [
    "counter = df_rooms[\"rooms_classification\"].value_counts() # creates a panda series which counts the number of articles in each polarity group number of their occurances in the column (shows how many articles there are in each polarity)\n",
    "\n",
    "bar = counter.plot.bar(rot=0, title = \"Number of sentences for rooms keywords \", \n",
    "                       xlabel = \"Polarity\", ylabel = \"Number of sentences in each polarity\")\n",
    "\n",
    "for p in bar.patches: # annotates the bars for further clarity\n",
    "    bar.annotate(format(p.get_height(), '.1f'), \n",
    "                   (p.get_x() + p.get_width() / 2., p.get_height()), \n",
    "                   ha = 'center', va = 'center', \n",
    "                   xytext = (0, 9), \n",
    "                   textcoords = 'offset points')    \n",
    "    \n",
    "plt.show()"
   ]
  },
  {
   "cell_type": "code",
   "execution_count": 82,
   "id": "970548ff-577e-4273-afa4-81c26aa8699c",
   "metadata": {},
   "outputs": [
    {
     "data": {
      "image/png": "[encoded data removed]",
      "text/plain": [
       "<Figure size 720x432 with 1 Axes>"
      ]
     },
     "metadata": {
      "needs_background": "light"
     },
     "output_type": "display_data"
    }
   ],
   "source": [
    "counter = df_staff[\"staff_classification\"].value_counts() # creates a panda series which counts the number of articles in each polarity group number of their occurances in the column (shows how many articles there are in each polarity)\n",
    "\n",
    "bar = counter.plot.bar(rot=0, title = \"Number of sentences for staff keywords \", \n",
    "                       xlabel = \"Polarity\", ylabel = \"Number of sentences in each polarity\")\n",
    "\n",
    "for p in bar.patches: # annotates the bars for further clarity\n",
    "    bar.annotate(format(p.get_height(), '.1f'), \n",
    "                   (p.get_x() + p.get_width() / 2., p.get_height()), \n",
    "                   ha = 'center', va = 'center', \n",
    "                   xytext = (0, 9), \n",
    "                   textcoords = 'offset points')    \n",
    "    \n",
    "plt.show()"
   ]
  },
  {
   "cell_type": "code",
   "execution_count": 83,
   "id": "fa61c93e-fefc-46c2-8284-888594c35f85",
   "metadata": {},
   "outputs": [
    {
     "data": {
      "image/png": "[encoded data removed]",
      "text/plain": [
       "<Figure size 720x432 with 1 Axes>"
      ]
     },
     "metadata": {
      "needs_background": "light"
     },
     "output_type": "display_data"
    }
   ],
   "source": [
    "counter = df_spa[\"spa_classification\"].value_counts() # creates a panda series which counts the number of articles in each polarity group number of their occurances in the column (shows how many articles there are in each polarity)\n",
    "\n",
    "bar = counter.plot.bar(rot=0, title = \"Number of sentences for spa keywords \", \n",
    "                       xlabel = \"Polarity\", ylabel = \"Number of sentences in each polarity\")\n",
    "\n",
    "for p in bar.patches: # annotates the bars for further clarity\n",
    "    bar.annotate(format(p.get_height(), '.1f'), \n",
    "                   (p.get_x() + p.get_width() / 2., p.get_height()), \n",
    "                   ha = 'center', va = 'center', \n",
    "                   xytext = (0, 9), \n",
    "                   textcoords = 'offset points')    \n",
    "    \n",
    "plt.show()"
   ]
  },
  {
   "cell_type": "code",
   "execution_count": 84,
   "id": "d3fc9a65-5e7f-4ca4-9eeb-6f3da251c07b",
   "metadata": {},
   "outputs": [
    {
     "data": {
      "image/png": "[encoded data removed]",
      "text/plain": [
       "<Figure size 720x432 with 1 Axes>"
      ]
     },
     "metadata": {
      "needs_background": "light"
     },
     "output_type": "display_data"
    }
   ],
   "source": [
    "counter = df_hotel_general[\"general_classification\"].value_counts() # creates a panda series which counts the number of articles in each polarity group number of their occurances in the column (shows how many articles there are in each polarity)\n",
    "\n",
    "bar = counter.plot.bar(rot=0, title = \"Number of sentences for general hotel information keywords \", \n",
    "                       xlabel = \"Polarity\", ylabel = \"Number of sentences in each polarity\")\n",
    "\n",
    "for p in bar.patches: # annotates the bars for further clarity\n",
    "    bar.annotate(format(p.get_height(), '.1f'), \n",
    "                   (p.get_x() + p.get_width() / 2., p.get_height()), \n",
    "                   ha = 'center', va = 'center', \n",
    "                   xytext = (0, 9), \n",
    "                   textcoords = 'offset points')    \n",
    "    \n",
    "plt.show()"
   ]
  },
  {
   "cell_type": "code",
   "execution_count": 85,
   "id": "ea4d84ff-f824-4b85-819d-0ec8b8b576e8",
   "metadata": {},
   "outputs": [
    {
     "name": "stdout",
     "output_type": "stream",
     "text": [
      "The most occuring words in FnB are: [('breakfast', 11861), ('food', 10928), ('not', 7585), ('good', 7460), ('hotel', 6348), ('restaurant', 5989), ('great', 5732), ('buffet', 5504), ('room', 5204), ('restaurants', 4623), ('water', 4287), ('nice', 3261), ('did', 3222), ('no', 3161), ('coffee', 3126)] \n",
      " The most occuring words in rooms are: [('room', 38623), ('rooms', 23164), ('clean', 17265), ('hotel', 14476), ('not', 13743), ('bathroom', 10589), ('nice', 8547), ('great', 8113), ('good', 7573), ('no', 7409), ('bed', 7187), ('beds', 6224), ('comfortable', 6182), ('small', 5818), ('staff', 5707)] \n",
      " The most occuring words in staff are: [('nice', 12164), ('staff', 11256), ('friendly', 8518), ('hotel', 7309), ('helpful', 5899), ('room', 4835), ('not', 4641), ('helpful.', 3002), ('great', 2828), ('good', 2538), ('rooms', 2323), ('clean', 2285), ('reception', 2283), ('really', 1803), ('service', 1790)] \n",
      " The most occuring words in spa are: [('clean', 8383), ('pool', 6187), ('room', 5458), ('water', 4000), ('hotel', 3766), ('not', 3445), ('rooms', 2866), ('beach', 2632), ('nice', 2552), ('great', 2513), ('clean.', 2022), ('good', 2017), ('staff', 1852), ('no', 1561), ('did', 1424)] \n",
      " The most occuring words in general information are: [('hotel', 25628), ('great', 15858), ('not', 15507), ('location', 13553), ('stay', 13411), ('stayed', 12296), ('good', 10742), ('room', 10509), ('beach', 9993), ('night', 9706), ('resort', 7435), ('just', 6838), ('nice', 6539), ('staff', 6395), ('bar', 5949)]\n"
     ]
    }
   ],
   "source": [
    "print(\"The most occuring words in FnB are:\", Counter(\" \".join(df_FnB[\"FnB\"]).split()).most_common(15),  \"\\n\",\n",
    "      \"The most occuring words in rooms are:\", Counter(\" \".join(df_rooms[\"rooms\"]).split()).most_common(15), \"\\n\",\n",
    "      \"The most occuring words in staff are:\", Counter(\" \".join(df_staff[\"staff\"]).split()).most_common(15), \"\\n\",\n",
    "      \"The most occuring words in spa are:\", Counter(\" \".join(df_spa[\"spa\"]).split()).most_common(15), \"\\n\",\n",
    "      \"The most occuring words in general information are:\", Counter(\" \".join(df_hotel_general[\"general_information\"]).split()).most_common(15))\n",
    "#finding out which words occur the most in each of the selected areas.    "
   ]
  },
  {
   "cell_type": "code",
   "execution_count": null,
   "id": "86689c01-91fe-4f9b-b678-0ef79d3a1711",
   "metadata": {},
   "outputs": [],
   "source": [
    "all_data=pd.concat([df_FnB, df_rooms], axis=1)\n",
    "all_data=pd.concat([all_data, df_hotel_general], axis=1)\n",
    "all_data=pd.concat([all_data, df_staff], axis=1)\n",
    "all_data=pd.concat([all_data, df_spa], axis=1)\n",
    "\n",
    "all_data"
   ]
  },
  {
   "cell_type": "markdown",
   "id": "3e81fbc7-49c8-4012-b666-ea2b8b7b0223",
   "metadata": {},
   "source": [
    "the following cells are currently raw and could be changed back to code cells when there is a need for saving the data"
   ]
  },
  {
   "cell_type": "raw",
   "id": "5d620e0f-0f3b-4965-95af-92f7e00ad598",
   "metadata": {},
   "source": [
    "df_staff.to_pickle(\"./data/df_staff.pkl\")\n",
    "df_spa.to_pickle(\"./data/df_spa.pkl\")\n",
    "df_FnB.to_pickle(\"./data/df_FnB.pkl\")\n",
    "df_hotel_general.to_pickle(\"./data/df_hotel_general.pkl\")\n",
    "df_rooms.to_pickle(\"./data/df_rooms.pkl\")"
   ]
  },
  {
   "cell_type": "raw",
   "id": "d0aab9b6-c2f6-4710-99af-9ca6a868f523",
   "metadata": {},
   "source": [
    "with open(\"./data/df_FnB.pkl\", 'rb') as f:\n",
    "    df_FnB = pickle.load(f)"
   ]
  },
  {
   "cell_type": "raw",
   "id": "313ff631-9b94-4684-b00e-d7877ffa9780",
   "metadata": {},
   "source": [
    "all_data.to_pickle(\"./data/all_data.pkl\")"
   ]
  },
  {
   "cell_type": "markdown",
   "id": "336b7d42-1c7f-4bb0-9319-c920ee6875bb",
   "metadata": {},
   "source": [
    "### Analysis of negative reviews from different areas"
   ]
  },
  {
   "cell_type": "code",
   "execution_count": 90,
   "id": "befde4e2-9236-462f-abb6-68ed949d17ef",
   "metadata": {},
   "outputs": [],
   "source": [
    "rooms_neg=df_rooms[\"rooms\"].loc[df_rooms['rooms_classification'] == \"negative\"]\n",
    "staff_neg=df_staff[\"staff\"].loc[df_staff['staff_classification'] == \"negative\"]\n",
    "FnB_neg=df_FnB[\"FnB\"].loc[df_FnB['FnB_classification'] == \"negative\"]\n",
    "spa_neg=df_spa[\"spa\"].loc[df_spa['spa_classification'] == \"negative\"]\n",
    "general_neg=df_hotel_general[\"general_information\"].loc[df_hotel_general['general_classification'] == \"negative\"]\n",
    "negative=[FnB_neg, rooms_neg, staff_neg, spa_neg, general_neg]"
   ]
  },
  {
   "cell_type": "markdown",
   "id": "feaa18ef-245b-4eec-bfef-fa713ff8e868",
   "metadata": {},
   "source": [
    "now, further analysis is conducted by having a look at the negative parts of the reviews as these are the ones telling the hotelier where to improve"
   ]
  },
  {
   "cell_type": "markdown",
   "id": "46334187-6bf1-4a8c-b215-af2a4438c84e",
   "metadata": {},
   "source": [
    "negative"
   ]
  },
  {
   "cell_type": "markdown",
   "id": "1f44bf71-a8b3-4c77-8b22-c2f032e0cf8e",
   "metadata": {},
   "source": [
    "one can detect that for the food and beverages the term \"breakfast\" occured quite often as well as restaurant, buffet, service, coffee, drinks and dinner. However, this holds not too much information and the next step is then vectorizing the data frame with the negative parts of the reviews and extracting the keywords in form of n-grams ranging from 3-6 to get a better understanding of the context in which they appear. "
   ]
  },
  {
   "cell_type": "code",
   "execution_count": 87,
   "id": "6a160699-3695-4601-9915-75b4023ab946",
   "metadata": {},
   "outputs": [],
   "source": [
    "from sklearn.feature_extraction.text import CountVectorizer, TfidfVectorizer\n",
    "from sklearn.metrics.pairwise import cosine_similarity"
   ]
  },
  {
   "cell_type": "code",
   "execution_count": 88,
   "id": "431b5461-0c0b-403d-93c0-18dd49f11daa",
   "metadata": {},
   "outputs": [],
   "source": [
    "vectorizer = TfidfVectorizer(max_features=100,\n",
    "                             ngram_range=(3,5),\n",
    "                             lowercase = True)"
   ]
  },
  {
   "cell_type": "code",
   "execution_count": 91,
   "id": "724a38b6-331b-48e1-9779-dd1c98493983",
   "metadata": {},
   "outputs": [
    {
     "name": "stdout",
     "output_type": "stream",
     "text": [
      "['ala carte restaurants' 'beer soft drinks' 'breakfast lunch buffet'\n",
      " 'breakfast lunch dinner' 'breakfast not good' 'breakfast not great'\n",
      " 'breakfast not included' 'buffet breakfast lunch' 'buffet breakfast not'\n",
      " 'buffet food not' 'buffet not good' 'can not say'\n",
      " 'coffee facilities room' 'coffee maker room' 'coffee making facilities'\n",
      " 'coffee making facilities room' 'coffee tea making'\n",
      " 'coffee tea making facilities' 'did not breakfast' 'did not care'\n",
      " 'did not eat' 'did not like' 'did not like food' 'did not look'\n",
      " 'did not try' 'did not want' 'did not work' 'drink tap water'\n",
      " 'eggs cold cuts' 'food buffet not' 'food did not' 'food good not'\n",
      " 'food good not great' 'food not best' 'food not good' 'food not great'\n",
      " 'food ok not' 'food pretty bad' 'french toast fruit'\n",
      " 'frustrating breakfast lunch' 'getting ready dinner' 'good not great'\n",
      " 'got food poisoning' 'got sick food' 'hard boiled eggs'\n",
      " 'hot water shower' 'hotel does not' 'included room rate'\n",
      " 'la carte restaurant' 'la carte restaurants' 'low water pressure'\n",
      " 'main buffet lobby' 'making facilities room' 'no big deal'\n",
      " 'no coffee maker' 'no coffee no' 'no coffee tea' 'no food available'\n",
      " 'no fresh fruit' 'no hot water' 'no room service' 'no tea coffee'\n",
      " 'no tea coffee facilities' 'no tea coffee facilities room'\n",
      " 'no tea coffee making' 'no tea coffee making facilities' 'no tea making'\n",
      " 'no teacoffee making' 'no teacoffee making facilities'\n",
      " 'no teacoffee making facilities room' 'no water pressure' 'not good food'\n",
      " 'not great not' 'not like food' 'nothing write home' 'ok not great'\n",
      " 'ok nothing special' 'pressure hot water' 'really did not'\n",
      " 'restaurant did not' 'restaurant food not'\n",
      " 'restaurant frustrating breakfast lunch' 'restaurant not good'\n",
      " 'restaurants good not' 'restaurants not good' 'room did not'\n",
      " 'room not ready' 'room service food' 'soft drinks water'\n",
      " 'sucked big time' 'tea coffee facilities' 'tea coffee facilities room'\n",
      " 'tea coffee making' 'tea coffee making facilities'\n",
      " 'tea coffee making facilities room' 'tea making facilities'\n",
      " 'teacoffee making facilities' 'teacoffee making facilities room'\n",
      " 'water pressure shower' 'water soft drinks']\n",
      "['air conditioning not' 'air conditioning room' 'air conditioning rooms'\n",
      " 'air conditioning unit' 'bathroom did not' 'bed air conditioning'\n",
      " 'bed no problem' 'beds hard rock' 'beds not comfortable' 'beds rock hard'\n",
      " 'coffee maker room' 'coffee making facilities' 'couple blocks away'\n",
      " 'did not clean' 'did not feel' 'did not feel safe' 'did not fit'\n",
      " 'did not like' 'did not lock' 'did not need' 'did not want'\n",
      " 'did not work' 'did work room' 'finally got room' 'half block away'\n",
      " 'hot water no' 'hot water shower' 'just block away' 'just blocks away'\n",
      " 'king size bed' 'king size beds' 'low water pressure'\n",
      " 'make matters worse' 'making facilities room' 'mold growing bathrooms'\n",
      " 'no air conditioning' 'no air conditioning rooms' 'no alarm clock'\n",
      " 'no big deal' 'no coffee maker' 'no complaints room' 'no counter space'\n",
      " 'no extra charge' 'no hot water' 'no problem hot water' 'no room service'\n",
      " 'no rooms available' 'no shower curtain' 'no tea coffee'\n",
      " 'no water pressure' 'non smoking room' 'not disturb sign' 'not feel safe'\n",
      " 'not ready pm' 'not worth money' 'ocean view room' 'of the clock'\n",
      " 'ordered room service' 'plenty hot water' 'pressure hot water'\n",
      " 'problem hot water' 'red light district' 'room did not' 'room double bed'\n",
      " 'room double beds' 'room no air' 'room no view' 'room not clean'\n",
      " 'room not cleaned' 'room not ready' 'room service menu' 'room th floor'\n",
      " 'room twin beds' 'rooms did not' 'rooms not clean' 'rooms not great'\n",
      " 'rooms not huge' 'rooms not large' 'rooms not ready' 'rooms small beds'\n",
      " 'shower water pressure' 'size bed air' 'size bed air conditioning'\n",
      " 'small shower stall' 'spend time room' 'tea coffee making'\n",
      " 'tea making facilities' 'teacoffee making facilities' 'th floor no'\n",
      " 'toilet paper holder' 'told no rooms' 'told room not'\n",
      " 'told room not ready' 'told rooms not' 'told rooms not ready'\n",
      " 'tv did work' 'water pressure hot' 'water pressure hot water'\n",
      " 'water pressure low' 'water pressure shower']\n",
      "['completely ignorant respect' 'completely ignorant respect situation'\n",
      " 'completely ignorant respect situation did' 'desk clerk rude'\n",
      " 'desk not friendly' 'desk people not' 'desk staff not' 'desk staff rude'\n",
      " 'did not care' 'did not feel' 'did not helpful'\n",
      " 'did not helpful information' 'did not helpful information increasingly'\n",
      " 'did not say' 'did not say sorry' 'did not speak' 'did not want'\n",
      " 'did not work' 'do not know' 'do not speak' 'efficient not friendly'\n",
      " 'employees not helpful' 'extremely rude not'\n",
      " 'helpful information increasingly'\n",
      " 'helpful information increasingly unfriendly'\n",
      " 'helpful information increasingly unfriendly seconds' 'hotel staff not'\n",
      " 'ignorant respect situation' 'ignorant respect situation did'\n",
      " 'increasingly unfriendly seconds' 'information increasingly unfriendly'\n",
      " 'information increasingly unfriendly seconds' 'just plain rude'\n",
      " 'king size bed' 'not child friendly' 'not friendly helpful'\n",
      " 'not helpful friendly' 'not helpful information'\n",
      " 'not helpful information increasingly'\n",
      " 'not helpful information increasingly unfriendly' 'not overly friendly'\n",
      " 'not overly helpful' 'not overly helpful friendly'\n",
      " 'not particularly friendly' 'not particularly helpful' 'not say nice'\n",
      " 'not say sorry' 'not speak english' 'not speak spanish' 'ok not great'\n",
      " 'overly helpful friendly' 'people not friendly' 'people saying staff'\n",
      " 'really did not' 'reception extremely rude' 'reception staff did'\n",
      " 'reception staff helpful' 'reception staff not'\n",
      " 'reception staff unhelpful' 'receptionist completely ignorant'\n",
      " 'receptionist completely ignorant respect'\n",
      " 'receptionist completely ignorant respect situation'\n",
      " 'respect situation did' 'respect situation did not'\n",
      " 'respect situation did not helpful' 'room nice big' 'room not ready'\n",
      " 'rude did not' 'rude did not care' 'rude not helpful' 'situation did not'\n",
      " 'situation did not helpful' 'situation did not helpful information'\n",
      " 'staff did not' 'staff extremely rude' 'staff friendly not'\n",
      " 'staff nice not' 'staff not friendly' 'staff not friendly helpful'\n",
      " 'staff not helpful' 'staff not helpful friendly' 'staff not nearly'\n",
      " 'staff not nicer' 'staff not overly' 'staff not particularly'\n",
      " 'staff not particularly helpful' 'staff ok not' 'staff really helpful'\n",
      " 'staff reception not' 'staff rude not' 'staff rude not helpful'\n",
      " 'staff rude unfriendly' 'staff rude unhelpful' 'staff unfriendly rude'\n",
      " 'staff unhelpful rude' 'the staff not' 'the staff not friendly'\n",
      " 'the staff not friendly helpful' 'the staff reception'\n",
      " 'the staff unfriendly']\n",
      "['can not say' 'chairs beach pool' 'chairs pool beach' 'check pool sauna'\n",
      " 'check pool sauna jacuzzi' 'check pool sauna jacuzzi saunas'\n",
      " 'clean no complaints' 'coloured water pool' 'coloured water pool open'\n",
      " 'coloured water pool open freezing' 'day room cleaned' 'did drink water'\n",
      " 'did hot water' 'did not care' 'did not clean' 'did not come'\n",
      " 'did not feel' 'did not like' 'did not work' 'down floor check'\n",
      " 'down floor check pool' 'down floor check pool sauna' 'drink tap water'\n",
      " 'floor check pool' 'floor check pool sauna'\n",
      " 'floor check pool sauna jacuzzi' 'getting lounge chair' 'hot water days'\n",
      " 'hot water morning' 'hot water no' 'hot water pressure'\n",
      " 'hot water shower' 'hot water water' 'hot water water pressure'\n",
      " 'jacuzzi saunas yes' 'jacuzzi saunas yes saunas'\n",
      " 'jacuzzi saunas yes saunas large' 'jacuzzi strangely coloured'\n",
      " 'jacuzzi strangely coloured water'\n",
      " 'jacuzzi strangely coloured water pool' 'king size bed'\n",
      " 'king size bed air' 'king size bed air conditioning' 'lack hot water'\n",
      " 'lazy river pool' 'low water pressure' 'low water pressure shower'\n",
      " 'no big deal' 'no bottled water' 'no clean towels' 'no cold water'\n",
      " 'no hot water' 'no hot water morning' 'no hot water shower' 'no pool bar'\n",
      " 'no pool no' 'no problem getting' 'no problem hot' 'no problem hot water'\n",
      " 'no problems getting' 'no swimming pool' 'no tea coffee'\n",
      " 'no water pressure' 'nothing fancy clean' 'open freezing touch'\n",
      " 'order jacuzzi strangely' 'order jacuzzi strangely coloured'\n",
      " 'order jacuzzi strangely coloured water' 'overlooked pool ocean'\n",
      " 'plenty hot water' 'pool beach not' 'pool did not' 'pool no water'\n",
      " 'pool water cloudy' 'pressure hot water' 'problem hot water'\n",
      " 'really hot water' 'room did not' 'room large clean' 'room not clean'\n",
      " 'room not cleaned' 'room not ready' 'rooms not clean'\n",
      " 'shower water pressure' 'tea coffee facilities' 'the hotel pool'\n",
      " 'use bottled water' 'water brush teeth' 'water not clear'\n",
      " 'water not sure' 'water pool open' 'water pool open freezing'\n",
      " 'water pool open freezing touch' 'water pressure hot'\n",
      " 'water pressure hot water' 'water pressure low' 'water pressure shower'\n",
      " 'water soft drinks' 'water temperature pressure' 'water water pressure']\n",
      "['air conditioning room' 'airport no problem' 'bar lobby bar'\n",
      " 'breezes punta cana' 'can not beat' 'can not better' 'can not imagine'\n",
      " 'can not recommend' 'can not say' 'can not wait' 'did not bother'\n",
      " 'did not care' 'did not eat' 'did not enjoy' 'did not feel'\n",
      " 'did not like' 'did not make' 'did not stay' 'did not use' 'did not want'\n",
      " 'did not work' 'do not know' 'do not stay' 'do not think'\n",
      " 'drink lobby bar' 'drinks lobby bar' 'food not good' 'food not great'\n",
      " 'good not great' 'good value money' 'hotel did not' 'hotel does not'\n",
      " 'hotel good location' 'hotel not worth' 'just blocks away'\n",
      " 'just returned night' 'just returned night stay' 'king size bed'\n",
      " 'la carte restaurants' 'lack air conditioning' 'lobby bar night'\n",
      " 'location can not' 'location not better' 'location not good'\n",
      " 'location not great' 'night did not' 'no air conditioning' 'no bar beach'\n",
      " 'no big deal' 'no extra charge' 'no hesitation staying' 'no hot water'\n",
      " 'no mini bar' 'no pool bar' 'no problem getting' 'no problems getting'\n",
      " 'no room service' 'no rooms available' 'not good value'\n",
      " 'not good value money' 'not great stayed' 'not recommend hotel'\n",
      " 'not recommend resort' 'not recommend staying' 'not stay hotel'\n",
      " 'not value money' 'not want stay' 'not worth money' 'not worth price'\n",
      " 'ok not great' 'ok nothing special' 'old san juan' 'paid lot money'\n",
      " 'punta cana airport' 'really did not' 'reception staff not'\n",
      " 'resort punta cana' 'restaurant did not' 'restaurants not good'\n",
      " 'returned night stay' 'right outside door' 'right outside hotel'\n",
      " 'right outside window' 'room did not' 'room no view' 'room not ready'\n",
      " 'room th floor' 'staff not friendly' 'staff not helpful' 'stay did not'\n",
      " 'stay hotel not' 'stayed hotel nights' 'stop right outside'\n",
      " 'the location hotel' 'trip punta cana' 'waste time money'\n",
      " 'worst hotel stayed' 'worth extra money' 'would not stay' 'year old son']\n"
     ]
    }
   ],
   "source": [
    "for i in negative:\n",
    "        vectorizer.fit_transform(i)\n",
    "        print(i)\n",
    "        print(vectorizer.get_feature_names_out(i))"
   ]
  },
  {
   "cell_type": "code",
   "execution_count": null,
   "id": "754afdab-f294-4a05-b902-6b575fe7c551",
   "metadata": {},
   "outputs": [],
   "source": []
  },
  {
   "cell_type": "code",
   "execution_count": null,
   "id": "4cd64403-ce52-4f7d-8c8b-089237a731a4",
   "metadata": {},
   "outputs": [],
   "source": []
  },
  {
   "cell_type": "code",
   "execution_count": null,
   "id": "0c08909f-1b16-45bf-9a93-390f719d3b2c",
   "metadata": {},
   "outputs": [],
   "source": []
  },
  {
   "cell_type": "markdown",
   "id": "1da0cad6-2a53-423d-aecc-521db762f519",
   "metadata": {},
   "source": [
    "### Part 4, Success Factor Analysis"
   ]
  },
  {
   "cell_type": "code",
   "execution_count": null,
   "id": "f9b89daf-4525-4ce9-b5ba-f599e1ee5f2b",
   "metadata": {},
   "outputs": [],
   "source": []
  },
  {
   "cell_type": "raw",
   "id": "6d2eabb3-1a0c-4969-8adb-8551bdd6966a",
   "metadata": {},
   "source": [
    "with open(\"./data/df.pkl\", 'rb') as f:\n",
    "    df = pickle.load(f)"
   ]
  },
  {
   "cell_type": "code",
   "execution_count": 92,
   "id": "bc044df0-a4ec-47aa-b069-bd37980904db",
   "metadata": {},
   "outputs": [
    {
     "data": {
      "text/html": [
       "<div>\n",
       "<style scoped>\n",
       "    .dataframe tbody tr th:only-of-type {\n",
       "        vertical-align: middle;\n",
       "    }\n",
       "\n",
       "    .dataframe tbody tr th {\n",
       "        vertical-align: top;\n",
       "    }\n",
       "\n",
       "    .dataframe thead th {\n",
       "        text-align: right;\n",
       "    }\n",
       "</style>\n",
       "<table border=\"1\" class=\"dataframe\">\n",
       "  <thead>\n",
       "    <tr style=\"text-align: right;\">\n",
       "      <th></th>\n",
       "      <th>clean</th>\n",
       "      <th>polarity</th>\n",
       "      <th>classification</th>\n",
       "    </tr>\n",
       "  </thead>\n",
       "  <tbody>\n",
       "    <tr>\n",
       "      <th>0</th>\n",
       "      <td>nice hotel expensive parking got good deal sta...</td>\n",
       "      <td>0.9747</td>\n",
       "      <td>positive</td>\n",
       "    </tr>\n",
       "    <tr>\n",
       "      <th>1</th>\n",
       "      <td>ok nothing special charge diamond member hilto...</td>\n",
       "      <td>0.9830</td>\n",
       "      <td>positive</td>\n",
       "    </tr>\n",
       "    <tr>\n",
       "      <th>2</th>\n",
       "      <td>nice rooms not experience hotel monaco seattle...</td>\n",
       "      <td>0.9906</td>\n",
       "      <td>excellent</td>\n",
       "    </tr>\n",
       "    <tr>\n",
       "      <th>3</th>\n",
       "      <td>unique. great stay. wonderful time hotel monac...</td>\n",
       "      <td>0.9946</td>\n",
       "      <td>excellent</td>\n",
       "    </tr>\n",
       "    <tr>\n",
       "      <th>4</th>\n",
       "      <td>great stay great stay. went seahawk game aweso...</td>\n",
       "      <td>0.9906</td>\n",
       "      <td>excellent</td>\n",
       "    </tr>\n",
       "    <tr>\n",
       "      <th>...</th>\n",
       "      <td>...</td>\n",
       "      <td>...</td>\n",
       "      <td>...</td>\n",
       "    </tr>\n",
       "    <tr>\n",
       "      <th>20486</th>\n",
       "      <td>best kept secret time staying charm. not star ...</td>\n",
       "      <td>0.9875</td>\n",
       "      <td>positive</td>\n",
       "    </tr>\n",
       "    <tr>\n",
       "      <th>20487</th>\n",
       "      <td>great location price view hotel great quick pl...</td>\n",
       "      <td>0.9790</td>\n",
       "      <td>positive</td>\n",
       "    </tr>\n",
       "    <tr>\n",
       "      <th>20488</th>\n",
       "      <td>ok just looks nice modern outside. desk staff ...</td>\n",
       "      <td>0.8122</td>\n",
       "      <td>positive</td>\n",
       "    </tr>\n",
       "    <tr>\n",
       "      <th>20489</th>\n",
       "      <td>hotel theft ruined vacation hotel opened sept ...</td>\n",
       "      <td>0.9628</td>\n",
       "      <td>positive</td>\n",
       "    </tr>\n",
       "    <tr>\n",
       "      <th>20490</th>\n",
       "      <td>people talking. can not believe excellent rati...</td>\n",
       "      <td>0.8685</td>\n",
       "      <td>positive</td>\n",
       "    </tr>\n",
       "  </tbody>\n",
       "</table>\n",
       "<p>20491 rows × 3 columns</p>\n",
       "</div>"
      ],
      "text/plain": [
       "                                                   clean  polarity  \\\n",
       "0      nice hotel expensive parking got good deal sta...    0.9747   \n",
       "1      ok nothing special charge diamond member hilto...    0.9830   \n",
       "2      nice rooms not experience hotel monaco seattle...    0.9906   \n",
       "3      unique. great stay. wonderful time hotel monac...    0.9946   \n",
       "4      great stay great stay. went seahawk game aweso...    0.9906   \n",
       "...                                                  ...       ...   \n",
       "20486  best kept secret time staying charm. not star ...    0.9875   \n",
       "20487  great location price view hotel great quick pl...    0.9790   \n",
       "20488  ok just looks nice modern outside. desk staff ...    0.8122   \n",
       "20489  hotel theft ruined vacation hotel opened sept ...    0.9628   \n",
       "20490  people talking. can not believe excellent rati...    0.8685   \n",
       "\n",
       "      classification  \n",
       "0           positive  \n",
       "1           positive  \n",
       "2          excellent  \n",
       "3          excellent  \n",
       "4          excellent  \n",
       "...              ...  \n",
       "20486       positive  \n",
       "20487       positive  \n",
       "20488       positive  \n",
       "20489       positive  \n",
       "20490       positive  \n",
       "\n",
       "[20491 rows x 3 columns]"
      ]
     },
     "execution_count": 92,
     "metadata": {},
     "output_type": "execute_result"
    }
   ],
   "source": [
    "df\n"
   ]
  },
  {
   "cell_type": "code",
   "execution_count": 93,
   "id": "1b0ab69a-b3e9-4c5e-ab66-808ef5cecb89",
   "metadata": {},
   "outputs": [
    {
     "data": {
      "text/html": [
       "<div>\n",
       "<style scoped>\n",
       "    .dataframe tbody tr th:only-of-type {\n",
       "        vertical-align: middle;\n",
       "    }\n",
       "\n",
       "    .dataframe tbody tr th {\n",
       "        vertical-align: top;\n",
       "    }\n",
       "\n",
       "    .dataframe thead th {\n",
       "        text-align: right;\n",
       "    }\n",
       "</style>\n",
       "<table border=\"1\" class=\"dataframe\">\n",
       "  <thead>\n",
       "    <tr style=\"text-align: right;\">\n",
       "      <th></th>\n",
       "      <th>clean</th>\n",
       "      <th>polarity</th>\n",
       "      <th>classification</th>\n",
       "    </tr>\n",
       "  </thead>\n",
       "  <tbody>\n",
       "    <tr>\n",
       "      <th>2</th>\n",
       "      <td>nice rooms not experience hotel monaco seattle...</td>\n",
       "      <td>0.9906</td>\n",
       "      <td>excellent</td>\n",
       "    </tr>\n",
       "    <tr>\n",
       "      <th>3</th>\n",
       "      <td>unique. great stay. wonderful time hotel monac...</td>\n",
       "      <td>0.9946</td>\n",
       "      <td>excellent</td>\n",
       "    </tr>\n",
       "    <tr>\n",
       "      <th>4</th>\n",
       "      <td>great stay great stay. went seahawk game aweso...</td>\n",
       "      <td>0.9906</td>\n",
       "      <td>excellent</td>\n",
       "    </tr>\n",
       "    <tr>\n",
       "      <th>6</th>\n",
       "      <td>cozy stay rainy city. husband spent nights mon...</td>\n",
       "      <td>0.9925</td>\n",
       "      <td>excellent</td>\n",
       "    </tr>\n",
       "    <tr>\n",
       "      <th>16</th>\n",
       "      <td>disappointed say anticipating stay hotel monac...</td>\n",
       "      <td>0.9915</td>\n",
       "      <td>excellent</td>\n",
       "    </tr>\n",
       "    <tr>\n",
       "      <th>...</th>\n",
       "      <td>...</td>\n",
       "      <td>...</td>\n",
       "      <td>...</td>\n",
       "    </tr>\n",
       "    <tr>\n",
       "      <th>20464</th>\n",
       "      <td>loved la concha. stayed nights days la concha ...</td>\n",
       "      <td>0.9949</td>\n",
       "      <td>excellent</td>\n",
       "    </tr>\n",
       "    <tr>\n",
       "      <th>20468</th>\n",
       "      <td>absolutely wonderful st. regis. spg member exc...</td>\n",
       "      <td>0.9950</td>\n",
       "      <td>excellent</td>\n",
       "    </tr>\n",
       "    <tr>\n",
       "      <th>20471</th>\n",
       "      <td>great hotel prime location husband spent night...</td>\n",
       "      <td>0.9912</td>\n",
       "      <td>excellent</td>\n",
       "    </tr>\n",
       "    <tr>\n",
       "      <th>20476</th>\n",
       "      <td>night not trust not disappointed stay hotel. s...</td>\n",
       "      <td>0.9917</td>\n",
       "      <td>excellent</td>\n",
       "    </tr>\n",
       "    <tr>\n",
       "      <th>20482</th>\n",
       "      <td>great choice wife chose best western quite bit...</td>\n",
       "      <td>0.9961</td>\n",
       "      <td>excellent</td>\n",
       "    </tr>\n",
       "  </tbody>\n",
       "</table>\n",
       "<p>4935 rows × 3 columns</p>\n",
       "</div>"
      ],
      "text/plain": [
       "                                                   clean  polarity  \\\n",
       "2      nice rooms not experience hotel monaco seattle...    0.9906   \n",
       "3      unique. great stay. wonderful time hotel monac...    0.9946   \n",
       "4      great stay great stay. went seahawk game aweso...    0.9906   \n",
       "6      cozy stay rainy city. husband spent nights mon...    0.9925   \n",
       "16     disappointed say anticipating stay hotel monac...    0.9915   \n",
       "...                                                  ...       ...   \n",
       "20464  loved la concha. stayed nights days la concha ...    0.9949   \n",
       "20468  absolutely wonderful st. regis. spg member exc...    0.9950   \n",
       "20471  great hotel prime location husband spent night...    0.9912   \n",
       "20476  night not trust not disappointed stay hotel. s...    0.9917   \n",
       "20482  great choice wife chose best western quite bit...    0.9961   \n",
       "\n",
       "      classification  \n",
       "2          excellent  \n",
       "3          excellent  \n",
       "4          excellent  \n",
       "6          excellent  \n",
       "16         excellent  \n",
       "...              ...  \n",
       "20464      excellent  \n",
       "20468      excellent  \n",
       "20471      excellent  \n",
       "20476      excellent  \n",
       "20482      excellent  \n",
       "\n",
       "[4935 rows x 3 columns]"
      ]
     },
     "execution_count": 93,
     "metadata": {},
     "output_type": "execute_result"
    }
   ],
   "source": [
    "df_excellent=df.loc[df['classification'] == \"excellent\"]\n",
    "df_excellent"
   ]
  },
  {
   "cell_type": "code",
   "execution_count": 94,
   "id": "ff05042e-8da6-4981-9f94-e8e29658398e",
   "metadata": {},
   "outputs": [
    {
     "data": {
      "text/plain": [
       "[('not', 13167),\n",
       " ('hotel', 12471),\n",
       " ('room', 10263),\n",
       " ('great', 8350),\n",
       " ('did', 6554),\n",
       " ('good', 6034),\n",
       " ('just', 5633),\n",
       " ('staff', 5292),\n",
       " ('beach', 5262),\n",
       " ('.', 4550),\n",
       " ('nice', 4493),\n",
       " ('food', 4226),\n",
       " ('no', 3948),\n",
       " ('really', 3859),\n",
       " ('resort', 3858),\n",
       " ('day', 3689),\n",
       " ('pool', 3654),\n",
       " ('like', 3642),\n",
       " ('time', 3520),\n",
       " ('service', 3487)]"
      ]
     },
     "execution_count": 94,
     "metadata": {},
     "output_type": "execute_result"
    }
   ],
   "source": [
    "df_excellent=df_excellent.reset_index(drop=True)\n",
    "Counter(\" \".join(df_excellent[\"clean\"]).split()).most_common(20)"
   ]
  },
  {
   "cell_type": "code",
   "execution_count": 95,
   "id": "1717d58c-94d1-4a9a-8df8-b7c447cf3f81",
   "metadata": {},
   "outputs": [],
   "source": [
    "from sklearn.feature_extraction.text import CountVectorizer, TfidfVectorizer\n",
    "from sklearn.metrics.pairwise import cosine_similarity"
   ]
  },
  {
   "cell_type": "code",
   "execution_count": 96,
   "id": "410acb15-62a2-4586-ad63-256bdead98ce",
   "metadata": {},
   "outputs": [],
   "source": [
    "vectorizer = TfidfVectorizer(max_features=100,\n",
    "                            # min_df=0.3,\n",
    "                             ngram_range=(3,6),\n",
    "                             lowercase = True)\n",
    "X = vectorizer.fit_transform(df_excellent[\"clean\"])\n"
   ]
  },
  {
   "cell_type": "code",
   "execution_count": 97,
   "id": "3ab46535-5c5e-405c-a842-3e7e45f3bcf1",
   "metadata": {},
   "outputs": [
    {
     "name": "stdout",
     "output_type": "stream",
     "text": [
      "[[0. 0. 0. ... 0. 0. 0.]\n",
      " [0. 0. 0. ... 0. 0. 0.]\n",
      " [0. 0. 0. ... 0. 0. 0.]\n",
      " ...\n",
      " [0. 0. 0. ... 0. 0. 0.]\n",
      " [0. 0. 0. ... 0. 0. 0.]\n",
      " [0. 0. 0. ... 0. 0. 0.]]\n",
      "(4935, 100)\n"
     ]
    },
    {
     "data": {
      "text/plain": [
       "100"
      ]
     },
     "execution_count": 97,
     "metadata": {},
     "output_type": "execute_result"
    }
   ],
   "source": [
    "print(X.toarray())\n",
    "print(X.shape)\n",
    "features = vectorizer.get_feature_names_out()\n",
    "len(features)"
   ]
  },
  {
   "cell_type": "code",
   "execution_count": 98,
   "id": "7770e001-025f-47ee-8b03-ab0d19b562be",
   "metadata": {},
   "outputs": [
    {
     "data": {
      "text/plain": [
       "array(['ala carte restaurants', 'best hotel stayed',\n",
       "       'breakfast lunch dinner', 'can not beat', 'can not comment',\n",
       "       'can not imagine', 'can not remember', 'can not say',\n",
       "       'can not wait', 'can not wait return',\n",
       "       'definitely recommend hotel', 'did great job', 'did not bother',\n",
       "       'did not eat', 'did not feel', 'did not like', 'did not sick',\n",
       "       'did not try', 'did not use', 'did not want', 'did not work',\n",
       "       'do not know', 'easy walking distance', 'el san juan',\n",
       "       'empire state building', 'excellence punta cana',\n",
       "       'excellent value money', 'feel free email', 'flat screen tv',\n",
       "       'food pretty good', 'free internet access',\n",
       "       'free wireless internet', 'friendly helpful staff',\n",
       "       'goes long way', 'good value money', 'great hotel great',\n",
       "       'great hotel great location', 'great location great',\n",
       "       'great location stayed', 'great place stay', 'great value money',\n",
       "       'highly recommend hotel', 'highly recommend resort',\n",
       "       'hotel does not', 'hotel great location', 'hotel just returned',\n",
       "       'hotel staff friendly', 'husband just returned',\n",
       "       'iberostar punta cana', 'just make sure', 'just returned day',\n",
       "       'just returned night', 'just returned night stay',\n",
       "       'just returned week', 'just short walk', 'king size bed',\n",
       "       'la carte restaurants', 'melia caribe tropical',\n",
       "       'minute walk away', 'minute walk hotel', 'new york city',\n",
       "       'no big deal', 'no problem getting', 'not big deal',\n",
       "       'not speak english', 'not wait return', 'ocean view room',\n",
       "       'old san juan', 'ordered room service', 'overall great time',\n",
       "       'plenty lounge chairs', 'punta cana airport',\n",
       "       'punta cana princess', 'punta cana resort', 'questions feel free',\n",
       "       'really enjoyed stay', 'resort punta cana', 'returned night stay',\n",
       "       'reviews trip advisor', 'room did not', 'room good size',\n",
       "       'room nice clean', 'room not ready', 'room th floor',\n",
       "       'short walk away', 'spent lot time', 'spoke good english',\n",
       "       'staff extremely friendly', 'staff extremely helpful',\n",
       "       'staff friendly helpful', 'staff helpful friendly',\n",
       "       'stayed hotel nights', 'th floor room', 'the location hotel',\n",
       "       'time punta cana', 'treated like royalty', 'trip punta cana',\n",
       "       'walking distance hotel', 'year old daughter', 'year old son'],\n",
       "      dtype=object)"
      ]
     },
     "execution_count": 98,
     "metadata": {},
     "output_type": "execute_result"
    }
   ],
   "source": [
    "features"
   ]
  },
  {
   "cell_type": "code",
   "execution_count": 99,
   "id": "89340939-d9b4-4659-a56c-90fe44605920",
   "metadata": {},
   "outputs": [
    {
     "data": {
      "text/plain": [
       "[('not', 23),\n",
       " ('hotel', 13),\n",
       " ('great', 12),\n",
       " ('did', 11),\n",
       " ('punta', 8),\n",
       " ('cana', 8),\n",
       " ('just', 8),\n",
       " ('room', 8),\n",
       " ('can', 7),\n",
       " ('returned', 7),\n",
       " ('staff', 6),\n",
       " ('friendly', 5),\n",
       " ('location', 5),\n",
       " ('free', 4),\n",
       " ('good', 4),\n",
       " ('helpful', 4),\n",
       " ('stay', 4),\n",
       " ('walk', 4),\n",
       " ('stayed', 3),\n",
       " ('wait', 3)]"
      ]
     },
     "execution_count": 99,
     "metadata": {},
     "output_type": "execute_result"
    }
   ],
   "source": [
    "Counter(\" \".join(features).split()).most_common(20)"
   ]
  },
  {
   "cell_type": "code",
   "execution_count": null,
   "id": "5bf3fd02-b114-49e0-ac4f-ea20eda97e8a",
   "metadata": {},
   "outputs": [],
   "source": []
  }
 ],
 "metadata": {
  "kernelspec": {
   "display_name": "Python 3 (ipykernel)",
   "language": "python",
   "name": "python3"
  },
  "language_info": {
   "codemirror_mode": {
    "name": "ipython",
    "version": 3
   },
   "file_extension": ".py",
   "mimetype": "text/x-python",
   "name": "python",
   "nbconvert_exporter": "python",
   "pygments_lexer": "ipython3",
   "version": "3.9.7"
  }
 },
 "nbformat": 4,
 "nbformat_minor": 5
}
